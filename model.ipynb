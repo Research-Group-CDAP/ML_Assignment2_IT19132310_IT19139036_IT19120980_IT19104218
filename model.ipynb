{
 "cells": [
  {
   "cell_type": "code",
   "execution_count": 2,
   "metadata": {},
   "outputs": [],
   "source": [
    "import pandas as pd\n",
    "import numpy as np\n",
    "import seaborn as sns\n",
    "import matplotlib.pyplot as plt"
   ]
  },
  {
   "cell_type": "code",
   "execution_count": 3,
   "metadata": {},
   "outputs": [],
   "source": [
    "import warnings\n",
    "warnings.filterwarnings('ignore')\n"
   ]
  },
  {
   "cell_type": "code",
   "execution_count": 4,
   "metadata": {},
   "outputs": [
    {
     "data": {
      "text/html": [
       "<div>\n",
       "<style scoped>\n",
       "    .dataframe tbody tr th:only-of-type {\n",
       "        vertical-align: middle;\n",
       "    }\n",
       "\n",
       "    .dataframe tbody tr th {\n",
       "        vertical-align: top;\n",
       "    }\n",
       "\n",
       "    .dataframe thead th {\n",
       "        text-align: right;\n",
       "    }\n",
       "</style>\n",
       "<table border=\"1\" class=\"dataframe\">\n",
       "  <thead>\n",
       "    <tr style=\"text-align: right;\">\n",
       "      <th></th>\n",
       "      <th>ID</th>\n",
       "      <th>Gender</th>\n",
       "      <th>Ever_Married</th>\n",
       "      <th>Age</th>\n",
       "      <th>Graduated</th>\n",
       "      <th>Profession</th>\n",
       "      <th>Work_Experience</th>\n",
       "      <th>Spending_Score</th>\n",
       "      <th>Family_Size</th>\n",
       "      <th>Var_1</th>\n",
       "      <th>Segmentation</th>\n",
       "    </tr>\n",
       "  </thead>\n",
       "  <tbody>\n",
       "    <tr>\n",
       "      <th>0</th>\n",
       "      <td>462809</td>\n",
       "      <td>Male</td>\n",
       "      <td>No</td>\n",
       "      <td>22</td>\n",
       "      <td>No</td>\n",
       "      <td>Healthcare</td>\n",
       "      <td>1.0</td>\n",
       "      <td>Low</td>\n",
       "      <td>4.0</td>\n",
       "      <td>Cat_4</td>\n",
       "      <td>D</td>\n",
       "    </tr>\n",
       "    <tr>\n",
       "      <th>1</th>\n",
       "      <td>462643</td>\n",
       "      <td>Female</td>\n",
       "      <td>Yes</td>\n",
       "      <td>38</td>\n",
       "      <td>Yes</td>\n",
       "      <td>Engineer</td>\n",
       "      <td>NaN</td>\n",
       "      <td>Average</td>\n",
       "      <td>3.0</td>\n",
       "      <td>Cat_4</td>\n",
       "      <td>A</td>\n",
       "    </tr>\n",
       "    <tr>\n",
       "      <th>2</th>\n",
       "      <td>466315</td>\n",
       "      <td>Female</td>\n",
       "      <td>Yes</td>\n",
       "      <td>67</td>\n",
       "      <td>Yes</td>\n",
       "      <td>Engineer</td>\n",
       "      <td>1.0</td>\n",
       "      <td>Low</td>\n",
       "      <td>1.0</td>\n",
       "      <td>Cat_6</td>\n",
       "      <td>B</td>\n",
       "    </tr>\n",
       "    <tr>\n",
       "      <th>3</th>\n",
       "      <td>461735</td>\n",
       "      <td>Male</td>\n",
       "      <td>Yes</td>\n",
       "      <td>67</td>\n",
       "      <td>Yes</td>\n",
       "      <td>Lawyer</td>\n",
       "      <td>0.0</td>\n",
       "      <td>High</td>\n",
       "      <td>2.0</td>\n",
       "      <td>Cat_6</td>\n",
       "      <td>B</td>\n",
       "    </tr>\n",
       "    <tr>\n",
       "      <th>4</th>\n",
       "      <td>462669</td>\n",
       "      <td>Female</td>\n",
       "      <td>Yes</td>\n",
       "      <td>40</td>\n",
       "      <td>Yes</td>\n",
       "      <td>Entertainment</td>\n",
       "      <td>NaN</td>\n",
       "      <td>High</td>\n",
       "      <td>6.0</td>\n",
       "      <td>Cat_6</td>\n",
       "      <td>A</td>\n",
       "    </tr>\n",
       "    <tr>\n",
       "      <th>5</th>\n",
       "      <td>461319</td>\n",
       "      <td>Male</td>\n",
       "      <td>Yes</td>\n",
       "      <td>56</td>\n",
       "      <td>No</td>\n",
       "      <td>Artist</td>\n",
       "      <td>0.0</td>\n",
       "      <td>Average</td>\n",
       "      <td>2.0</td>\n",
       "      <td>Cat_6</td>\n",
       "      <td>C</td>\n",
       "    </tr>\n",
       "    <tr>\n",
       "      <th>6</th>\n",
       "      <td>460156</td>\n",
       "      <td>Male</td>\n",
       "      <td>No</td>\n",
       "      <td>32</td>\n",
       "      <td>Yes</td>\n",
       "      <td>Healthcare</td>\n",
       "      <td>1.0</td>\n",
       "      <td>Low</td>\n",
       "      <td>3.0</td>\n",
       "      <td>Cat_6</td>\n",
       "      <td>C</td>\n",
       "    </tr>\n",
       "    <tr>\n",
       "      <th>7</th>\n",
       "      <td>464347</td>\n",
       "      <td>Female</td>\n",
       "      <td>No</td>\n",
       "      <td>33</td>\n",
       "      <td>Yes</td>\n",
       "      <td>Healthcare</td>\n",
       "      <td>1.0</td>\n",
       "      <td>Low</td>\n",
       "      <td>3.0</td>\n",
       "      <td>Cat_6</td>\n",
       "      <td>D</td>\n",
       "    </tr>\n",
       "    <tr>\n",
       "      <th>8</th>\n",
       "      <td>465015</td>\n",
       "      <td>Female</td>\n",
       "      <td>Yes</td>\n",
       "      <td>61</td>\n",
       "      <td>Yes</td>\n",
       "      <td>Engineer</td>\n",
       "      <td>0.0</td>\n",
       "      <td>Low</td>\n",
       "      <td>3.0</td>\n",
       "      <td>Cat_7</td>\n",
       "      <td>D</td>\n",
       "    </tr>\n",
       "    <tr>\n",
       "      <th>9</th>\n",
       "      <td>465176</td>\n",
       "      <td>Female</td>\n",
       "      <td>Yes</td>\n",
       "      <td>55</td>\n",
       "      <td>Yes</td>\n",
       "      <td>Artist</td>\n",
       "      <td>1.0</td>\n",
       "      <td>Average</td>\n",
       "      <td>4.0</td>\n",
       "      <td>Cat_6</td>\n",
       "      <td>C</td>\n",
       "    </tr>\n",
       "  </tbody>\n",
       "</table>\n",
       "</div>"
      ],
      "text/plain": [
       "       ID  Gender Ever_Married  Age Graduated     Profession  Work_Experience  \\\n",
       "0  462809    Male           No   22        No     Healthcare              1.0   \n",
       "1  462643  Female          Yes   38       Yes       Engineer              NaN   \n",
       "2  466315  Female          Yes   67       Yes       Engineer              1.0   \n",
       "3  461735    Male          Yes   67       Yes         Lawyer              0.0   \n",
       "4  462669  Female          Yes   40       Yes  Entertainment              NaN   \n",
       "5  461319    Male          Yes   56        No         Artist              0.0   \n",
       "6  460156    Male           No   32       Yes     Healthcare              1.0   \n",
       "7  464347  Female           No   33       Yes     Healthcare              1.0   \n",
       "8  465015  Female          Yes   61       Yes       Engineer              0.0   \n",
       "9  465176  Female          Yes   55       Yes         Artist              1.0   \n",
       "\n",
       "  Spending_Score  Family_Size  Var_1 Segmentation  \n",
       "0            Low          4.0  Cat_4            D  \n",
       "1        Average          3.0  Cat_4            A  \n",
       "2            Low          1.0  Cat_6            B  \n",
       "3           High          2.0  Cat_6            B  \n",
       "4           High          6.0  Cat_6            A  \n",
       "5        Average          2.0  Cat_6            C  \n",
       "6            Low          3.0  Cat_6            C  \n",
       "7            Low          3.0  Cat_6            D  \n",
       "8            Low          3.0  Cat_7            D  \n",
       "9        Average          4.0  Cat_6            C  "
      ]
     },
     "execution_count": 4,
     "metadata": {},
     "output_type": "execute_result"
    }
   ],
   "source": [
    "# Loading the train data\n",
    "df_train = pd.read_csv('Train.csv')\n",
    "# Looking top 10 rows\n",
    "df_train.head(10)"
   ]
  },
  {
   "cell_type": "code",
   "execution_count": 5,
   "metadata": {},
   "outputs": [
    {
     "name": "stdout",
     "output_type": "stream",
     "text": [
      "<class 'pandas.core.frame.DataFrame'>\n",
      "RangeIndex: 8068 entries, 0 to 8067\n",
      "Data columns (total 11 columns):\n",
      " #   Column           Non-Null Count  Dtype  \n",
      "---  ------           --------------  -----  \n",
      " 0   ID               8068 non-null   int64  \n",
      " 1   Gender           8068 non-null   object \n",
      " 2   Ever_Married     7928 non-null   object \n",
      " 3   Age              8068 non-null   int64  \n",
      " 4   Graduated        7990 non-null   object \n",
      " 5   Profession       7944 non-null   object \n",
      " 6   Work_Experience  7239 non-null   float64\n",
      " 7   Spending_Score   8068 non-null   object \n",
      " 8   Family_Size      7733 non-null   float64\n",
      " 9   Var_1            7992 non-null   object \n",
      " 10  Segmentation     8068 non-null   object \n",
      "dtypes: float64(2), int64(2), object(7)\n",
      "memory usage: 693.5+ KB\n"
     ]
    }
   ],
   "source": [
    "# Looking the bigger picture\n",
    "df_train.info()"
   ]
  },
  {
   "cell_type": "code",
   "execution_count": 6,
   "metadata": {},
   "outputs": [
    {
     "data": {
      "text/plain": [
       "ID                   0\n",
       "Gender               0\n",
       "Ever_Married       140\n",
       "Age                  0\n",
       "Graduated           78\n",
       "Profession         124\n",
       "Work_Experience    829\n",
       "Spending_Score       0\n",
       "Family_Size        335\n",
       "Var_1               76\n",
       "Segmentation         0\n",
       "dtype: int64"
      ]
     },
     "execution_count": 6,
     "metadata": {},
     "output_type": "execute_result"
    }
   ],
   "source": [
    "# Checking the number of missing values in each column\n",
    "df_train.isnull().sum()"
   ]
  },
  {
   "cell_type": "code",
   "execution_count": 7,
   "metadata": {},
   "outputs": [
    {
     "data": {
      "text/html": [
       "<div>\n",
       "<style scoped>\n",
       "    .dataframe tbody tr th:only-of-type {\n",
       "        vertical-align: middle;\n",
       "    }\n",
       "\n",
       "    .dataframe tbody tr th {\n",
       "        vertical-align: top;\n",
       "    }\n",
       "\n",
       "    .dataframe thead th {\n",
       "        text-align: right;\n",
       "    }\n",
       "</style>\n",
       "<table border=\"1\" class=\"dataframe\">\n",
       "  <thead>\n",
       "    <tr style=\"text-align: right;\">\n",
       "      <th></th>\n",
       "      <th>ID</th>\n",
       "      <th>Gender</th>\n",
       "      <th>Ever_Married</th>\n",
       "      <th>Age</th>\n",
       "      <th>Graduated</th>\n",
       "      <th>Profession</th>\n",
       "      <th>Work_Experience</th>\n",
       "      <th>Spending_Score</th>\n",
       "      <th>Family_Size</th>\n",
       "      <th>Var_1</th>\n",
       "    </tr>\n",
       "  </thead>\n",
       "  <tbody>\n",
       "    <tr>\n",
       "      <th>0</th>\n",
       "      <td>458989</td>\n",
       "      <td>Female</td>\n",
       "      <td>Yes</td>\n",
       "      <td>36</td>\n",
       "      <td>Yes</td>\n",
       "      <td>Engineer</td>\n",
       "      <td>0.0</td>\n",
       "      <td>Low</td>\n",
       "      <td>1.0</td>\n",
       "      <td>Cat_6</td>\n",
       "    </tr>\n",
       "    <tr>\n",
       "      <th>1</th>\n",
       "      <td>458994</td>\n",
       "      <td>Male</td>\n",
       "      <td>Yes</td>\n",
       "      <td>37</td>\n",
       "      <td>Yes</td>\n",
       "      <td>Healthcare</td>\n",
       "      <td>8.0</td>\n",
       "      <td>Average</td>\n",
       "      <td>4.0</td>\n",
       "      <td>Cat_6</td>\n",
       "    </tr>\n",
       "    <tr>\n",
       "      <th>2</th>\n",
       "      <td>458996</td>\n",
       "      <td>Female</td>\n",
       "      <td>Yes</td>\n",
       "      <td>69</td>\n",
       "      <td>No</td>\n",
       "      <td>NaN</td>\n",
       "      <td>0.0</td>\n",
       "      <td>Low</td>\n",
       "      <td>1.0</td>\n",
       "      <td>Cat_6</td>\n",
       "    </tr>\n",
       "    <tr>\n",
       "      <th>3</th>\n",
       "      <td>459000</td>\n",
       "      <td>Male</td>\n",
       "      <td>Yes</td>\n",
       "      <td>59</td>\n",
       "      <td>No</td>\n",
       "      <td>Executive</td>\n",
       "      <td>11.0</td>\n",
       "      <td>High</td>\n",
       "      <td>2.0</td>\n",
       "      <td>Cat_6</td>\n",
       "    </tr>\n",
       "    <tr>\n",
       "      <th>4</th>\n",
       "      <td>459001</td>\n",
       "      <td>Female</td>\n",
       "      <td>No</td>\n",
       "      <td>19</td>\n",
       "      <td>No</td>\n",
       "      <td>Marketing</td>\n",
       "      <td>NaN</td>\n",
       "      <td>Low</td>\n",
       "      <td>4.0</td>\n",
       "      <td>Cat_6</td>\n",
       "    </tr>\n",
       "    <tr>\n",
       "      <th>5</th>\n",
       "      <td>459003</td>\n",
       "      <td>Male</td>\n",
       "      <td>Yes</td>\n",
       "      <td>47</td>\n",
       "      <td>Yes</td>\n",
       "      <td>Doctor</td>\n",
       "      <td>0.0</td>\n",
       "      <td>High</td>\n",
       "      <td>5.0</td>\n",
       "      <td>Cat_4</td>\n",
       "    </tr>\n",
       "    <tr>\n",
       "      <th>6</th>\n",
       "      <td>459005</td>\n",
       "      <td>Male</td>\n",
       "      <td>Yes</td>\n",
       "      <td>61</td>\n",
       "      <td>Yes</td>\n",
       "      <td>Doctor</td>\n",
       "      <td>5.0</td>\n",
       "      <td>Low</td>\n",
       "      <td>3.0</td>\n",
       "      <td>Cat_6</td>\n",
       "    </tr>\n",
       "    <tr>\n",
       "      <th>7</th>\n",
       "      <td>459008</td>\n",
       "      <td>Female</td>\n",
       "      <td>Yes</td>\n",
       "      <td>47</td>\n",
       "      <td>Yes</td>\n",
       "      <td>Artist</td>\n",
       "      <td>1.0</td>\n",
       "      <td>Average</td>\n",
       "      <td>3.0</td>\n",
       "      <td>Cat_6</td>\n",
       "    </tr>\n",
       "    <tr>\n",
       "      <th>8</th>\n",
       "      <td>459013</td>\n",
       "      <td>Male</td>\n",
       "      <td>Yes</td>\n",
       "      <td>50</td>\n",
       "      <td>Yes</td>\n",
       "      <td>Artist</td>\n",
       "      <td>2.0</td>\n",
       "      <td>Average</td>\n",
       "      <td>4.0</td>\n",
       "      <td>Cat_6</td>\n",
       "    </tr>\n",
       "    <tr>\n",
       "      <th>9</th>\n",
       "      <td>459014</td>\n",
       "      <td>Male</td>\n",
       "      <td>No</td>\n",
       "      <td>19</td>\n",
       "      <td>No</td>\n",
       "      <td>Healthcare</td>\n",
       "      <td>0.0</td>\n",
       "      <td>Low</td>\n",
       "      <td>4.0</td>\n",
       "      <td>Cat_6</td>\n",
       "    </tr>\n",
       "  </tbody>\n",
       "</table>\n",
       "</div>"
      ],
      "text/plain": [
       "       ID  Gender Ever_Married  Age Graduated  Profession  Work_Experience  \\\n",
       "0  458989  Female          Yes   36       Yes    Engineer              0.0   \n",
       "1  458994    Male          Yes   37       Yes  Healthcare              8.0   \n",
       "2  458996  Female          Yes   69        No         NaN              0.0   \n",
       "3  459000    Male          Yes   59        No   Executive             11.0   \n",
       "4  459001  Female           No   19        No   Marketing              NaN   \n",
       "5  459003    Male          Yes   47       Yes      Doctor              0.0   \n",
       "6  459005    Male          Yes   61       Yes      Doctor              5.0   \n",
       "7  459008  Female          Yes   47       Yes      Artist              1.0   \n",
       "8  459013    Male          Yes   50       Yes      Artist              2.0   \n",
       "9  459014    Male           No   19        No  Healthcare              0.0   \n",
       "\n",
       "  Spending_Score  Family_Size  Var_1  \n",
       "0            Low          1.0  Cat_6  \n",
       "1        Average          4.0  Cat_6  \n",
       "2            Low          1.0  Cat_6  \n",
       "3           High          2.0  Cat_6  \n",
       "4            Low          4.0  Cat_6  \n",
       "5           High          5.0  Cat_4  \n",
       "6            Low          3.0  Cat_6  \n",
       "7        Average          3.0  Cat_6  \n",
       "8        Average          4.0  Cat_6  \n",
       "9            Low          4.0  Cat_6  "
      ]
     },
     "execution_count": 7,
     "metadata": {},
     "output_type": "execute_result"
    }
   ],
   "source": [
    "\n",
    "# Loading the train data\n",
    "df_test = pd.read_csv('Test.csv')\n",
    "\n",
    "# Looking top 10 rows\n",
    "df_test.head(10)"
   ]
  },
  {
   "cell_type": "code",
   "execution_count": 8,
   "metadata": {},
   "outputs": [
    {
     "name": "stdout",
     "output_type": "stream",
     "text": [
      "<class 'pandas.core.frame.DataFrame'>\n",
      "RangeIndex: 2627 entries, 0 to 2626\n",
      "Data columns (total 10 columns):\n",
      " #   Column           Non-Null Count  Dtype  \n",
      "---  ------           --------------  -----  \n",
      " 0   ID               2627 non-null   int64  \n",
      " 1   Gender           2627 non-null   object \n",
      " 2   Ever_Married     2577 non-null   object \n",
      " 3   Age              2627 non-null   int64  \n",
      " 4   Graduated        2603 non-null   object \n",
      " 5   Profession       2589 non-null   object \n",
      " 6   Work_Experience  2358 non-null   float64\n",
      " 7   Spending_Score   2627 non-null   object \n",
      " 8   Family_Size      2514 non-null   float64\n",
      " 9   Var_1            2595 non-null   object \n",
      "dtypes: float64(2), int64(2), object(6)\n",
      "memory usage: 205.4+ KB\n"
     ]
    }
   ],
   "source": [
    "# Looking the bigger picture\n",
    "df_test.info()\n"
   ]
  },
  {
   "cell_type": "code",
   "execution_count": 9,
   "metadata": {},
   "outputs": [
    {
     "data": {
      "text/plain": [
       "ID                   0\n",
       "Gender               0\n",
       "Ever_Married        50\n",
       "Age                  0\n",
       "Graduated           24\n",
       "Profession          38\n",
       "Work_Experience    269\n",
       "Spending_Score       0\n",
       "Family_Size        113\n",
       "Var_1               32\n",
       "dtype: int64"
      ]
     },
     "execution_count": 9,
     "metadata": {},
     "output_type": "execute_result"
    }
   ],
   "source": [
    "# Checking the number of missing values in each column\n",
    "df_test.isnull().sum()"
   ]
  },
  {
   "cell_type": "code",
   "execution_count": 10,
   "metadata": {},
   "outputs": [],
   "source": [
    "# Removing all those rows that have 3 or more missing values\n",
    "df_train = df_train.loc[df_train.isnull().sum(axis=1)<3]"
   ]
  },
  {
   "cell_type": "code",
   "execution_count": 11,
   "metadata": {},
   "outputs": [
    {
     "data": {
      "text/html": [
       "<div>\n",
       "<style scoped>\n",
       "    .dataframe tbody tr th:only-of-type {\n",
       "        vertical-align: middle;\n",
       "    }\n",
       "\n",
       "    .dataframe tbody tr th {\n",
       "        vertical-align: top;\n",
       "    }\n",
       "\n",
       "    .dataframe thead th {\n",
       "        text-align: right;\n",
       "    }\n",
       "</style>\n",
       "<table border=\"1\" class=\"dataframe\">\n",
       "  <thead>\n",
       "    <tr style=\"text-align: right;\">\n",
       "      <th></th>\n",
       "      <th>ID</th>\n",
       "      <th>Gender</th>\n",
       "      <th>Ever_Married</th>\n",
       "      <th>Age</th>\n",
       "      <th>Graduated</th>\n",
       "      <th>Profession</th>\n",
       "      <th>Work_Experience</th>\n",
       "      <th>Spending_Score</th>\n",
       "      <th>Family_Size</th>\n",
       "      <th>Var_1</th>\n",
       "      <th>Segmentation</th>\n",
       "    </tr>\n",
       "  </thead>\n",
       "  <tbody>\n",
       "    <tr>\n",
       "      <th>7414</th>\n",
       "      <td>465853</td>\n",
       "      <td>Female</td>\n",
       "      <td>Yes</td>\n",
       "      <td>33</td>\n",
       "      <td>Yes</td>\n",
       "      <td>Healthcare</td>\n",
       "      <td>NaN</td>\n",
       "      <td>Average</td>\n",
       "      <td>2.0</td>\n",
       "      <td>Cat_6</td>\n",
       "      <td>A</td>\n",
       "    </tr>\n",
       "    <tr>\n",
       "      <th>6359</th>\n",
       "      <td>459801</td>\n",
       "      <td>Female</td>\n",
       "      <td>No</td>\n",
       "      <td>27</td>\n",
       "      <td>Yes</td>\n",
       "      <td>Engineer</td>\n",
       "      <td>4.0</td>\n",
       "      <td>Low</td>\n",
       "      <td>2.0</td>\n",
       "      <td>Cat_6</td>\n",
       "      <td>D</td>\n",
       "    </tr>\n",
       "    <tr>\n",
       "      <th>8008</th>\n",
       "      <td>464894</td>\n",
       "      <td>Male</td>\n",
       "      <td>No</td>\n",
       "      <td>22</td>\n",
       "      <td>No</td>\n",
       "      <td>Healthcare</td>\n",
       "      <td>NaN</td>\n",
       "      <td>Low</td>\n",
       "      <td>5.0</td>\n",
       "      <td>Cat_4</td>\n",
       "      <td>D</td>\n",
       "    </tr>\n",
       "    <tr>\n",
       "      <th>7443</th>\n",
       "      <td>459598</td>\n",
       "      <td>Male</td>\n",
       "      <td>Yes</td>\n",
       "      <td>40</td>\n",
       "      <td>No</td>\n",
       "      <td>Artist</td>\n",
       "      <td>NaN</td>\n",
       "      <td>Average</td>\n",
       "      <td>2.0</td>\n",
       "      <td>Cat_4</td>\n",
       "      <td>A</td>\n",
       "    </tr>\n",
       "    <tr>\n",
       "      <th>3692</th>\n",
       "      <td>466839</td>\n",
       "      <td>Female</td>\n",
       "      <td>No</td>\n",
       "      <td>26</td>\n",
       "      <td>No</td>\n",
       "      <td>Homemaker</td>\n",
       "      <td>8.0</td>\n",
       "      <td>Low</td>\n",
       "      <td>2.0</td>\n",
       "      <td>Cat_6</td>\n",
       "      <td>D</td>\n",
       "    </tr>\n",
       "    <tr>\n",
       "      <th>535</th>\n",
       "      <td>464105</td>\n",
       "      <td>Male</td>\n",
       "      <td>Yes</td>\n",
       "      <td>65</td>\n",
       "      <td>Yes</td>\n",
       "      <td>Entertainment</td>\n",
       "      <td>1.0</td>\n",
       "      <td>Average</td>\n",
       "      <td>2.0</td>\n",
       "      <td>Cat_6</td>\n",
       "      <td>C</td>\n",
       "    </tr>\n",
       "    <tr>\n",
       "      <th>6961</th>\n",
       "      <td>463728</td>\n",
       "      <td>Female</td>\n",
       "      <td>Yes</td>\n",
       "      <td>30</td>\n",
       "      <td>No</td>\n",
       "      <td>Doctor</td>\n",
       "      <td>1.0</td>\n",
       "      <td>Average</td>\n",
       "      <td>6.0</td>\n",
       "      <td>Cat_6</td>\n",
       "      <td>B</td>\n",
       "    </tr>\n",
       "    <tr>\n",
       "      <th>3137</th>\n",
       "      <td>461810</td>\n",
       "      <td>Female</td>\n",
       "      <td>Yes</td>\n",
       "      <td>62</td>\n",
       "      <td>Yes</td>\n",
       "      <td>Homemaker</td>\n",
       "      <td>1.0</td>\n",
       "      <td>Low</td>\n",
       "      <td>1.0</td>\n",
       "      <td>Cat_2</td>\n",
       "      <td>B</td>\n",
       "    </tr>\n",
       "    <tr>\n",
       "      <th>7624</th>\n",
       "      <td>462591</td>\n",
       "      <td>Male</td>\n",
       "      <td>No</td>\n",
       "      <td>25</td>\n",
       "      <td>No</td>\n",
       "      <td>Doctor</td>\n",
       "      <td>4.0</td>\n",
       "      <td>Low</td>\n",
       "      <td>NaN</td>\n",
       "      <td>Cat_4</td>\n",
       "      <td>D</td>\n",
       "    </tr>\n",
       "    <tr>\n",
       "      <th>624</th>\n",
       "      <td>461627</td>\n",
       "      <td>Male</td>\n",
       "      <td>Yes</td>\n",
       "      <td>50</td>\n",
       "      <td>Yes</td>\n",
       "      <td>Doctor</td>\n",
       "      <td>1.0</td>\n",
       "      <td>Low</td>\n",
       "      <td>2.0</td>\n",
       "      <td>Cat_6</td>\n",
       "      <td>C</td>\n",
       "    </tr>\n",
       "  </tbody>\n",
       "</table>\n",
       "</div>"
      ],
      "text/plain": [
       "          ID  Gender Ever_Married  Age Graduated     Profession  \\\n",
       "7414  465853  Female          Yes   33       Yes     Healthcare   \n",
       "6359  459801  Female           No   27       Yes       Engineer   \n",
       "8008  464894    Male           No   22        No     Healthcare   \n",
       "7443  459598    Male          Yes   40        No         Artist   \n",
       "3692  466839  Female           No   26        No      Homemaker   \n",
       "535   464105    Male          Yes   65       Yes  Entertainment   \n",
       "6961  463728  Female          Yes   30        No         Doctor   \n",
       "3137  461810  Female          Yes   62       Yes      Homemaker   \n",
       "7624  462591    Male           No   25        No         Doctor   \n",
       "624   461627    Male          Yes   50       Yes         Doctor   \n",
       "\n",
       "      Work_Experience Spending_Score  Family_Size  Var_1 Segmentation  \n",
       "7414              NaN        Average          2.0  Cat_6            A  \n",
       "6359              4.0            Low          2.0  Cat_6            D  \n",
       "8008              NaN            Low          5.0  Cat_4            D  \n",
       "7443              NaN        Average          2.0  Cat_4            A  \n",
       "3692              8.0            Low          2.0  Cat_6            D  \n",
       "535               1.0        Average          2.0  Cat_6            C  \n",
       "6961              1.0        Average          6.0  Cat_6            B  \n",
       "3137              1.0            Low          1.0  Cat_2            B  \n",
       "7624              4.0            Low          NaN  Cat_4            D  \n",
       "624               1.0            Low          2.0  Cat_6            C  "
      ]
     },
     "execution_count": 11,
     "metadata": {},
     "output_type": "execute_result"
    }
   ],
   "source": [
    "# Looking random 10 rows of the data\n",
    "df_train.sample(10)"
   ]
  },
  {
   "cell_type": "code",
   "execution_count": 12,
   "metadata": {},
   "outputs": [],
   "source": [
    "# Removing all those rows that have 3 or more missing values\n",
    "df_test = df_test.loc[df_test.isnull().sum(axis=1)<3]"
   ]
  },
  {
   "cell_type": "code",
   "execution_count": 13,
   "metadata": {},
   "outputs": [
    {
     "data": {
      "text/html": [
       "<div>\n",
       "<style scoped>\n",
       "    .dataframe tbody tr th:only-of-type {\n",
       "        vertical-align: middle;\n",
       "    }\n",
       "\n",
       "    .dataframe tbody tr th {\n",
       "        vertical-align: top;\n",
       "    }\n",
       "\n",
       "    .dataframe thead th {\n",
       "        text-align: right;\n",
       "    }\n",
       "</style>\n",
       "<table border=\"1\" class=\"dataframe\">\n",
       "  <thead>\n",
       "    <tr style=\"text-align: right;\">\n",
       "      <th></th>\n",
       "      <th>ID</th>\n",
       "      <th>Gender</th>\n",
       "      <th>Ever_Married</th>\n",
       "      <th>Age</th>\n",
       "      <th>Graduated</th>\n",
       "      <th>Profession</th>\n",
       "      <th>Work_Experience</th>\n",
       "      <th>Spending_Score</th>\n",
       "      <th>Family_Size</th>\n",
       "      <th>Var_1</th>\n",
       "    </tr>\n",
       "  </thead>\n",
       "  <tbody>\n",
       "    <tr>\n",
       "      <th>1645</th>\n",
       "      <td>464601</td>\n",
       "      <td>Female</td>\n",
       "      <td>No</td>\n",
       "      <td>29</td>\n",
       "      <td>Yes</td>\n",
       "      <td>Healthcare</td>\n",
       "      <td>9.0</td>\n",
       "      <td>Low</td>\n",
       "      <td>2.0</td>\n",
       "      <td>Cat_6</td>\n",
       "    </tr>\n",
       "    <tr>\n",
       "      <th>734</th>\n",
       "      <td>461402</td>\n",
       "      <td>Female</td>\n",
       "      <td>No</td>\n",
       "      <td>29</td>\n",
       "      <td>Yes</td>\n",
       "      <td>Entertainment</td>\n",
       "      <td>1.0</td>\n",
       "      <td>Low</td>\n",
       "      <td>5.0</td>\n",
       "      <td>Cat_6</td>\n",
       "    </tr>\n",
       "    <tr>\n",
       "      <th>1950</th>\n",
       "      <td>465640</td>\n",
       "      <td>Male</td>\n",
       "      <td>Yes</td>\n",
       "      <td>45</td>\n",
       "      <td>Yes</td>\n",
       "      <td>Artist</td>\n",
       "      <td>5.0</td>\n",
       "      <td>Average</td>\n",
       "      <td>2.0</td>\n",
       "      <td>Cat_6</td>\n",
       "    </tr>\n",
       "    <tr>\n",
       "      <th>967</th>\n",
       "      <td>462218</td>\n",
       "      <td>Male</td>\n",
       "      <td>Yes</td>\n",
       "      <td>50</td>\n",
       "      <td>No</td>\n",
       "      <td>Executive</td>\n",
       "      <td>1.0</td>\n",
       "      <td>Average</td>\n",
       "      <td>5.0</td>\n",
       "      <td>Cat_4</td>\n",
       "    </tr>\n",
       "    <tr>\n",
       "      <th>740</th>\n",
       "      <td>461432</td>\n",
       "      <td>Female</td>\n",
       "      <td>Yes</td>\n",
       "      <td>41</td>\n",
       "      <td>Yes</td>\n",
       "      <td>Artist</td>\n",
       "      <td>1.0</td>\n",
       "      <td>Average</td>\n",
       "      <td>2.0</td>\n",
       "      <td>Cat_6</td>\n",
       "    </tr>\n",
       "    <tr>\n",
       "      <th>455</th>\n",
       "      <td>460453</td>\n",
       "      <td>Female</td>\n",
       "      <td>No</td>\n",
       "      <td>42</td>\n",
       "      <td>Yes</td>\n",
       "      <td>Doctor</td>\n",
       "      <td>5.0</td>\n",
       "      <td>Low</td>\n",
       "      <td>1.0</td>\n",
       "      <td>Cat_6</td>\n",
       "    </tr>\n",
       "    <tr>\n",
       "      <th>951</th>\n",
       "      <td>462186</td>\n",
       "      <td>Female</td>\n",
       "      <td>No</td>\n",
       "      <td>19</td>\n",
       "      <td>No</td>\n",
       "      <td>Doctor</td>\n",
       "      <td>1.0</td>\n",
       "      <td>Low</td>\n",
       "      <td>3.0</td>\n",
       "      <td>Cat_1</td>\n",
       "    </tr>\n",
       "    <tr>\n",
       "      <th>1904</th>\n",
       "      <td>465488</td>\n",
       "      <td>Male</td>\n",
       "      <td>No</td>\n",
       "      <td>22</td>\n",
       "      <td>No</td>\n",
       "      <td>Healthcare</td>\n",
       "      <td>1.0</td>\n",
       "      <td>Low</td>\n",
       "      <td>4.0</td>\n",
       "      <td>Cat_6</td>\n",
       "    </tr>\n",
       "    <tr>\n",
       "      <th>1240</th>\n",
       "      <td>463149</td>\n",
       "      <td>Male</td>\n",
       "      <td>Yes</td>\n",
       "      <td>57</td>\n",
       "      <td>Yes</td>\n",
       "      <td>Artist</td>\n",
       "      <td>2.0</td>\n",
       "      <td>Average</td>\n",
       "      <td>2.0</td>\n",
       "      <td>Cat_6</td>\n",
       "    </tr>\n",
       "    <tr>\n",
       "      <th>1673</th>\n",
       "      <td>464696</td>\n",
       "      <td>Female</td>\n",
       "      <td>No</td>\n",
       "      <td>40</td>\n",
       "      <td>Yes</td>\n",
       "      <td>Engineer</td>\n",
       "      <td>1.0</td>\n",
       "      <td>Low</td>\n",
       "      <td>1.0</td>\n",
       "      <td>Cat_4</td>\n",
       "    </tr>\n",
       "  </tbody>\n",
       "</table>\n",
       "</div>"
      ],
      "text/plain": [
       "          ID  Gender Ever_Married  Age Graduated     Profession  \\\n",
       "1645  464601  Female           No   29       Yes     Healthcare   \n",
       "734   461402  Female           No   29       Yes  Entertainment   \n",
       "1950  465640    Male          Yes   45       Yes         Artist   \n",
       "967   462218    Male          Yes   50        No      Executive   \n",
       "740   461432  Female          Yes   41       Yes         Artist   \n",
       "455   460453  Female           No   42       Yes         Doctor   \n",
       "951   462186  Female           No   19        No         Doctor   \n",
       "1904  465488    Male           No   22        No     Healthcare   \n",
       "1240  463149    Male          Yes   57       Yes         Artist   \n",
       "1673  464696  Female           No   40       Yes       Engineer   \n",
       "\n",
       "      Work_Experience Spending_Score  Family_Size  Var_1  \n",
       "1645              9.0            Low          2.0  Cat_6  \n",
       "734               1.0            Low          5.0  Cat_6  \n",
       "1950              5.0        Average          2.0  Cat_6  \n",
       "967               1.0        Average          5.0  Cat_4  \n",
       "740               1.0        Average          2.0  Cat_6  \n",
       "455               5.0            Low          1.0  Cat_6  \n",
       "951               1.0            Low          3.0  Cat_1  \n",
       "1904              1.0            Low          4.0  Cat_6  \n",
       "1240              2.0        Average          2.0  Cat_6  \n",
       "1673              1.0            Low          1.0  Cat_4  "
      ]
     },
     "execution_count": 13,
     "metadata": {},
     "output_type": "execute_result"
    }
   ],
   "source": [
    "# Looking random 10 rows of the data\n",
    "df_test.sample(10)"
   ]
  },
  {
   "cell_type": "code",
   "execution_count": 14,
   "metadata": {},
   "outputs": [
    {
     "name": "stdout",
     "output_type": "stream",
     "text": [
      "The catagory count\n",
      " Cat_6    5232\n",
      "Cat_4    1084\n",
      "Cat_3     820\n",
      "Cat_2     422\n",
      "Cat_7     201\n",
      "Cat_1     133\n",
      "Cat_5      85\n",
      "Name: Var_1, dtype: int64\n"
     ]
    }
   ],
   "source": [
    "print('The catagory count\\n',df_train.Var_1.value_counts())"
   ]
  },
  {
   "cell_type": "code",
   "execution_count": 15,
   "metadata": {},
   "outputs": [
    {
     "data": {
      "text/plain": [
       "72"
      ]
     },
     "execution_count": 15,
     "metadata": {},
     "output_type": "execute_result"
    }
   ],
   "source": [
    "# Checking for null values\n",
    "df_train.Var_1.isnull().sum()"
   ]
  },
  {
   "cell_type": "code",
   "execution_count": 16,
   "metadata": {},
   "outputs": [],
   "source": [
    "# Filling the missing values w.r.t other attributes underlying pattern \n",
    "df_train.loc[ (pd.isnull(df_train['Var_1'])) & (df_train['Graduated'] == 'Yes'),\"Var_1\"] = 'Cat_6'\n",
    "df_train.loc[ (pd.isnull(df_train['Var_1'])) & (df_train['Graduated'] == 'No'),\"Var_1\"] = 'Cat_4'\n",
    "df_train.loc[ (pd.isnull(df_train[\"Var_1\"])) & ((df_train['Profession'] == 'Lawyer') | (df_train['Profession'] == 'Artist')),\"Var_1\"] = 'Cat_6'\n",
    "df_train.loc[ (pd.isnull(df_train[\"Var_1\"])) & (df_train['Age'] > 40),\"Var_1\"] = 'Cat_6'"
   ]
  },
  {
   "cell_type": "code",
   "execution_count": 17,
   "metadata": {},
   "outputs": [
    {
     "data": {
      "text/plain": [
       "29"
      ]
     },
     "execution_count": 17,
     "metadata": {},
     "output_type": "execute_result"
    }
   ],
   "source": [
    "# Checking for null values\n",
    "df_test.Var_1.isnull().sum()"
   ]
  },
  {
   "cell_type": "code",
   "execution_count": 18,
   "metadata": {},
   "outputs": [],
   "source": [
    "numerical_columns_train=['ID','Age','Work_Experience','Family_Size' ]\n",
    "categorical_columns_train=['Gender','Ever_Married','Graduated','Profession','Spending_Score','Var_1','Segmentation']"
   ]
  },
  {
   "cell_type": "code",
   "execution_count": 19,
   "metadata": {},
   "outputs": [],
   "source": [
    "numerical_columns_test=['ID','Age','Work_Experience','Family_Size' ]\n",
    "categorical_columns_test=['Gender','Ever_Married','Graduated','Profession','Spending_Score','Var_1']"
   ]
  },
  {
   "cell_type": "code",
   "execution_count": 20,
   "metadata": {},
   "outputs": [
    {
     "data": {
      "image/png": "[encoded data removed]",
      "text/plain": [
       "<Figure size 1080x288 with 2 Axes>"
      ]
     },
     "metadata": {
      "needs_background": "light"
     },
     "output_type": "display_data"
    }
   ],
   "source": [
    "# Counting Var_1 in each segment\n",
    "ax1 = df_train.groupby([\"Segmentation\"])[\"Var_1\"].value_counts().unstack().round(3)\n",
    "\n",
    "# Percentage of category of Var_1 in each segment\n",
    "ax2 = df_train.pivot_table(columns='Var_1',index='Segmentation',values='ID',aggfunc='count')\n",
    "ax2 = ax2.div(ax2.sum(axis=1), axis = 0).round(2)\n",
    "\n",
    "#count plot\n",
    "fig, ax = plt.subplots(1,2)\n",
    "ax1.plot(kind=\"bar\",ax = ax[0],figsize = (15,4))\n",
    "ax[0].set_xticklabels(labels = ['A','B','C','D'],rotation = 0)\n",
    "ax[0].set_title(str(ax1))\n",
    "\n",
    "#stacked bars\n",
    "ax2.plot(kind=\"bar\",stacked = True,ax = ax[1],figsize = (15,4))\n",
    "ax[1].set_xticklabels(labels = ['A','B','C','D'],rotation = 0)\n",
    "ax[1].set_title(str(ax2))\n",
    "plt.show()\n",
    "\n"
   ]
  },
  {
   "cell_type": "code",
   "execution_count": 21,
   "metadata": {},
   "outputs": [
    {
     "data": {
      "text/plain": [
       "0"
      ]
     },
     "execution_count": 21,
     "metadata": {},
     "output_type": "execute_result"
    }
   ],
   "source": [
    "# Checking the count of missing values\n",
    "df_train.Gender.isnull().sum()"
   ]
  },
  {
   "cell_type": "code",
   "execution_count": 22,
   "metadata": {},
   "outputs": [
    {
     "data": {
      "text/plain": [
       "0"
      ]
     },
     "execution_count": 22,
     "metadata": {},
     "output_type": "execute_result"
    }
   ],
   "source": [
    "# Checking the count of missing values\n",
    "df_test.Gender.isnull().sum()"
   ]
  },
  {
   "cell_type": "code",
   "execution_count": 23,
   "metadata": {},
   "outputs": [
    {
     "data": {
      "image/png": "[encoded data removed]",
      "text/plain": [
       "<Figure size 1080x288 with 2 Axes>"
      ]
     },
     "metadata": {
      "needs_background": "light"
     },
     "output_type": "display_data"
    }
   ],
   "source": [
    "# Counting male-female in each segment\n",
    "ax1 = df_train.groupby([\"Segmentation\"])[\"Gender\"].value_counts().unstack().round(3)\n",
    "\n",
    "# Percentage of male-female in each segment\n",
    "ax2 = df_train.pivot_table(columns='Gender',index='Segmentation',values='ID',aggfunc='count')\n",
    "ax2 = ax2.div(ax2.sum(axis=1), axis = 0).round(2)\n",
    "\n",
    "#count plot\n",
    "fig, ax = plt.subplots(1,2)\n",
    "ax1.plot(kind=\"bar\",ax = ax[0],figsize = (15,4))\n",
    "ax[0].set_xticklabels(labels = ['A','B','C','D'],rotation = 0)\n",
    "ax[0].set_title(str(ax1))\n",
    "\n",
    "#stacked bars\n",
    "ax2.plot(kind=\"bar\",stacked = True,ax = ax[1],figsize = (15,4))\n",
    "ax[1].set_xticklabels(labels = ['A','B','C','D'],rotation = 0)\n",
    "ax[1].set_title(str(ax2))\n",
    "plt.show()\n"
   ]
  },
  {
   "cell_type": "code",
   "execution_count": 24,
   "metadata": {},
   "outputs": [
    {
     "name": "stdout",
     "output_type": "stream",
     "text": [
      "The count grouped by marital status\n",
      " Yes    4635\n",
      "No     3280\n",
      "Name: Ever_Married, dtype: int64\n"
     ]
    }
   ],
   "source": [
    "print('The count grouped by marital status\\n',df_train.Ever_Married.value_counts())"
   ]
  },
  {
   "cell_type": "code",
   "execution_count": 25,
   "metadata": {},
   "outputs": [
    {
     "data": {
      "text/plain": [
       "0"
      ]
     },
     "execution_count": 25,
     "metadata": {},
     "output_type": "execute_result"
    }
   ],
   "source": [
    "\n",
    "# Checking the count of missing values\n",
    "df_train.Gender.isnull().sum()\n"
   ]
  },
  {
   "cell_type": "code",
   "execution_count": 26,
   "metadata": {},
   "outputs": [
    {
     "data": {
      "text/plain": [
       "0"
      ]
     },
     "execution_count": 26,
     "metadata": {},
     "output_type": "execute_result"
    }
   ],
   "source": [
    "\n",
    "\n",
    "# Checking the count of missing values\n",
    "df_test.Gender.isnull().sum()\n",
    "\n"
   ]
  },
  {
   "cell_type": "code",
   "execution_count": 27,
   "metadata": {},
   "outputs": [
    {
     "data": {
      "image/png": "[encoded data removed]",
      "text/plain": [
       "<Figure size 1080x288 with 2 Axes>"
      ]
     },
     "metadata": {
      "needs_background": "light"
     },
     "output_type": "display_data"
    }
   ],
   "source": [
    "\n",
    "\n",
    "# Counting male-female in each segment\n",
    "ax1 = df_train.groupby([\"Segmentation\"])[\"Gender\"].value_counts().unstack().round(3)\n",
    "\n",
    "# Percentage of male-female in each segment\n",
    "ax2 = df_train.pivot_table(columns='Gender',index='Segmentation',values='ID',aggfunc='count')\n",
    "ax2 = ax2.div(ax2.sum(axis=1), axis = 0).round(2)\n",
    "\n",
    "#count plot\n",
    "fig, ax = plt.subplots(1,2)\n",
    "ax1.plot(kind=\"bar\",ax = ax[0],figsize = (15,4))\n",
    "ax[0].set_xticklabels(labels = ['A','B','C','D'],rotation = 0)\n",
    "ax[0].set_title(str(ax1))\n",
    "\n",
    "#stacked bars\n",
    "ax2.plot(kind=\"bar\",stacked = True,ax = ax[1],figsize = (15,4))\n",
    "ax[1].set_xticklabels(labels = ['A','B','C','D'],rotation = 0)\n",
    "ax[1].set_title(str(ax2))\n",
    "plt.show()\n",
    "\n"
   ]
  },
  {
   "cell_type": "code",
   "execution_count": 28,
   "metadata": {},
   "outputs": [
    {
     "name": "stdout",
     "output_type": "stream",
     "text": [
      "The count grouped by marital status\n",
      " Yes    4635\n",
      "No     3280\n",
      "Name: Ever_Married, dtype: int64\n"
     ]
    }
   ],
   "source": [
    "print('The count grouped by marital status\\n',df_train.Ever_Married.value_counts())\n"
   ]
  },
  {
   "cell_type": "code",
   "execution_count": 29,
   "metadata": {},
   "outputs": [
    {
     "data": {
      "text/plain": [
       "134"
      ]
     },
     "execution_count": 29,
     "metadata": {},
     "output_type": "execute_result"
    }
   ],
   "source": [
    "\n",
    "# Checking the count of missing values\n",
    "df_train.Ever_Married.isnull().sum()\n",
    "\n"
   ]
  },
  {
   "cell_type": "code",
   "execution_count": 31,
   "metadata": {},
   "outputs": [],
   "source": [
    "\n",
    "# Filling the missing values w.r.t other attributes underlying pattern\n",
    "df_train.loc[ (pd.isnull(df_train[\"Ever_Married\"])) & ((df_train['Spending_Score'] == 'Average') | (df_train['Spending_Score'] == 'High')),\"Ever_Married\"] = 'Yes'\n",
    "df_train.loc[ (pd.isnull(df_train[\"Ever_Married\"])) & (df_train['Spending_Score'] == 'Low'),\"Ever_Married\"] = 'No'\n",
    "df_train.loc[ (pd.isnull(df_train[\"Ever_Married\"])) & (df_train['Age'] > 40),\"Ever_Married\"] = 'Yes'\n",
    "df_train.loc[ (pd.isnull(df_train[\"Ever_Married\"])) & (df_train['Profession'] == 'Healthcare'),\"Ever_Married\"] = 'No'\n"
   ]
  },
  {
   "cell_type": "code",
   "execution_count": 32,
   "metadata": {},
   "outputs": [
    {
     "data": {
      "text/plain": [
       "48"
      ]
     },
     "execution_count": 32,
     "metadata": {},
     "output_type": "execute_result"
    }
   ],
   "source": [
    "\n",
    "\n",
    "# Checking the count of missing values\n",
    "df_test.Ever_Married.isnull().sum()\n"
   ]
  },
  {
   "cell_type": "code",
   "execution_count": 33,
   "metadata": {},
   "outputs": [],
   "source": [
    "\n",
    "# Filling the missing values w.r.t other attributes underlying pattern\n",
    "df_test.loc[ (pd.isnull(df_test[\"Ever_Married\"])) & ((df_test['Spending_Score'] == 'Average') | (df_test['Spending_Score'] == 'High')),\"Ever_Married\"] = 'Yes'\n",
    "df_test.loc[ (pd.isnull(df_test[\"Ever_Married\"])) & (df_test['Spending_Score'] == 'Low'),\"Ever_Married\"] = 'No'\n",
    "df_test.loc[ (pd.isnull(df_test[\"Ever_Married\"])) & (df_test['Age'] > 40),\"Ever_Married\"] = 'Yes'\n",
    "df_test.loc[ (pd.isnull(df_test[\"Ever_Married\"])) & (df_test['Profession'] == 'Healthcare'),\"Ever_Married\"] = 'No'\n",
    "\n"
   ]
  },
  {
   "cell_type": "code",
   "execution_count": 34,
   "metadata": {},
   "outputs": [
    {
     "data": {
      "image/png": "[encoded data removed]",
      "text/plain": [
       "<Figure size 1080x288 with 2 Axes>"
      ]
     },
     "metadata": {
      "needs_background": "light"
     },
     "output_type": "display_data"
    }
   ],
   "source": [
    "\n",
    "# Counting married and non-married in each segment\n",
    "ax1 = df_train.groupby([\"Segmentation\"])[\"Ever_Married\"].value_counts().unstack().round(3)\n",
    "\n",
    "# Percentage of married and non-married in each segment\n",
    "ax2 = df_train.pivot_table(columns='Ever_Married',index='Segmentation',values='ID',aggfunc='count')\n",
    "ax2 = ax2.div(ax2.sum(axis=1), axis = 0).round(2)\n",
    "\n",
    "#count plot\n",
    "fig, ax = plt.subplots(1,2)\n",
    "ax1.plot(kind=\"bar\",ax = ax[0],figsize = (15,4))\n",
    "ax[0].set_xticklabels(labels = ['A','B','C','D'],rotation = 0)\n",
    "ax[0].set_title(str(ax1))\n",
    "\n",
    "#stacked bars\n",
    "ax2.plot(kind=\"bar\",stacked = True,ax = ax[1],figsize = (15,4))\n",
    "ax[1].set_xticklabels(labels = ['A','B','C','D'],rotation = 0)\n",
    "ax[1].set_title(str(ax2))\n",
    "plt.show()\n"
   ]
  },
  {
   "cell_type": "code",
   "execution_count": 35,
   "metadata": {},
   "outputs": [
    {
     "data": {
      "text/plain": [
       "count    8049.000000\n",
       "mean       43.458442\n",
       "std        16.704328\n",
       "min        18.000000\n",
       "25%        30.000000\n",
       "50%        40.000000\n",
       "75%        53.000000\n",
       "90%        69.000000\n",
       "95%        77.000000\n",
       "99%        87.000000\n",
       "max        89.000000\n",
       "Name: Age, dtype: float64"
      ]
     },
     "execution_count": 35,
     "metadata": {},
     "output_type": "execute_result"
    }
   ],
   "source": [
    "df_train.Age.describe(percentiles=[0.25,0.5,0.75,0.9,0.95,0.99])"
   ]
  },
  {
   "cell_type": "code",
   "execution_count": 36,
   "metadata": {},
   "outputs": [
    {
     "data": {
      "text/plain": [
       "0"
      ]
     },
     "execution_count": 36,
     "metadata": {},
     "output_type": "execute_result"
    }
   ],
   "source": [
    "\n",
    "\n",
    "# Checking the count of missing values\n",
    "df_train.Age.isnull().sum()\n"
   ]
  },
  {
   "cell_type": "code",
   "execution_count": 37,
   "metadata": {},
   "outputs": [
    {
     "data": {
      "text/plain": [
       "0"
      ]
     },
     "execution_count": 37,
     "metadata": {},
     "output_type": "execute_result"
    }
   ],
   "source": [
    "\n",
    "# Checking the count of missing values\n",
    "df_test.Age.isnull().sum()\n",
    "\n"
   ]
  },
  {
   "cell_type": "code",
   "execution_count": 38,
   "metadata": {},
   "outputs": [
    {
     "data": {
      "image/png": "[encoded data removed]",
      "text/plain": [
       "<Figure size 720x360 with 2 Axes>"
      ]
     },
     "metadata": {
      "needs_background": "light"
     },
     "output_type": "display_data"
    }
   ],
   "source": [
    "\n",
    "\n",
    "# Looking the distribution of column Age\n",
    "plt.figure(figsize=(10,5))\n",
    "\n",
    "skewness = round(df_train.Age.skew(),2)\n",
    "kurtosis = round(df_train.Age.kurtosis(),2)\n",
    "mean = round(np.mean(df_train.Age),0)\n",
    "median = np.median(df_train.Age)\n",
    "\n",
    "plt.subplot(1,2,1)\n",
    "sns.boxplot(y=df_train.Age)\n",
    "plt.title('Boxplot\\n Mean:{}\\n Median:{}\\n Skewness:{}\\n Kurtosis:{}'.format(mean,median,skewness,kurtosis))\n",
    "\n",
    "plt.subplot(1,2,2)\n",
    "sns.distplot(df_train.Age)\n",
    "plt.title('Distribution Plot\\n Mean:{}\\n Median:{}\\n Skewness:{}\\n Kurtosis:{}'.format(mean,median,skewness,kurtosis))\n",
    "\n",
    "plt.show()\n"
   ]
  },
  {
   "cell_type": "code",
   "execution_count": 39,
   "metadata": {},
   "outputs": [
    {
     "data": {
      "image/png": "[encoded data removed]",
      "text/plain": [
       "<Figure size 1080x360 with 2 Axes>"
      ]
     },
     "metadata": {
      "needs_background": "light"
     },
     "output_type": "display_data"
    }
   ],
   "source": [
    "\n",
    "# Looking the distribution of column Age w.r.t to each segment\n",
    "a = df_train[df_train.Segmentation =='A'][\"Age\"]\n",
    "b = df_train[df_train.Segmentation =='B'][\"Age\"]\n",
    "c = df_train[df_train.Segmentation =='C'][\"Age\"]\n",
    "d = df_train[df_train.Segmentation =='D'][\"Age\"]\n",
    "\n",
    "plt.figure(figsize=(15,5))\n",
    "\n",
    "plt.subplot(1,2,1)\n",
    "sns.boxplot(data = df_train, x = \"Segmentation\", y=\"Age\")\n",
    "plt.title('Boxplot')\n",
    "\n",
    "plt.subplot(1,2,2)\n",
    "sns.kdeplot(a,shade= False, label = 'A', color = 'yellow')\n",
    "sns.kdeplot(b,shade= False, label = 'B', color = 'green')\n",
    "sns.kdeplot(c,shade= False, label = 'C', color = 'red')\n",
    "sns.kdeplot(d,shade= False, label = 'D', color = 'blue')\n",
    "plt.xlabel('Age')\n",
    "plt.ylabel('Density')\n",
    "plt.title(\"Mean\\n A: {}\\n B: {}\\n C: {}\\n D: {}\".format(round(a.mean(),0),round(b.mean(),0),round(c.mean(),0),round(d.mean(),0)))\n",
    "\n",
    "plt.show()\n",
    "\n"
   ]
  },
  {
   "cell_type": "code",
   "execution_count": 41,
   "metadata": {},
   "outputs": [],
   "source": [
    "\n",
    "\n",
    "# Converting the datatype from float to int\n",
    "df_train['Age'] = df_train['Age'].astype(int)\n",
    "\n"
   ]
  },
  {
   "cell_type": "code",
   "execution_count": 42,
   "metadata": {},
   "outputs": [
    {
     "data": {
      "text/plain": [
       "count    8049.000000\n",
       "mean       43.458442\n",
       "std        16.704328\n",
       "min        18.000000\n",
       "25%        30.000000\n",
       "50%        40.000000\n",
       "75%        53.000000\n",
       "90%        69.000000\n",
       "95%        77.000000\n",
       "99%        87.000000\n",
       "max        89.000000\n",
       "Name: Age, dtype: float64"
      ]
     },
     "execution_count": 42,
     "metadata": {},
     "output_type": "execute_result"
    }
   ],
   "source": [
    "\n",
    "df_train.Age.describe(percentiles=[0.25,0.5,0.75,0.9,0.95,0.99])\n",
    "\n"
   ]
  },
  {
   "cell_type": "code",
   "execution_count": 43,
   "metadata": {},
   "outputs": [],
   "source": [
    "# Divide people in the 4 age group\n",
    "df_train['Age_Bin'] = pd.cut(df_train.Age,bins=[17,30,45,60,90],labels=['17-30','31-45','46-60','60+'])\n"
   ]
  },
  {
   "cell_type": "code",
   "execution_count": 44,
   "metadata": {},
   "outputs": [],
   "source": [
    "\n",
    "# Divide people in the 4 age group\n",
    "df_test['Age_Bin'] = pd.cut(df_test.Age,bins=[17,30,45,60,90],labels=['17-30','31-45','46-60','60+'])\n",
    "\n"
   ]
  },
  {
   "cell_type": "code",
   "execution_count": 45,
   "metadata": {},
   "outputs": [
    {
     "data": {
      "image/png": "[encoded data removed]",
      "text/plain": [
       "<Figure size 1080x288 with 2 Axes>"
      ]
     },
     "metadata": {
      "needs_background": "light"
     },
     "output_type": "display_data"
    }
   ],
   "source": [
    "\n",
    "\n",
    "# Counting different age group in each segment\n",
    "ax1 = df_train.groupby([\"Segmentation\"])[\"Age_Bin\"].value_counts().unstack().round(3)\n",
    "\n",
    "# Percentage of age bins in each segment\n",
    "ax2 = df_train.pivot_table(columns='Age_Bin',index='Segmentation',values='ID',aggfunc='count')\n",
    "ax2 = ax2.div(ax2.sum(axis=1), axis = 0).round(2)\n",
    "\n",
    "#count plot\n",
    "fig, ax = plt.subplots(1,2)\n",
    "ax1.plot(kind=\"bar\",ax = ax[0],figsize = (15,4))\n",
    "ax[0].set_xticklabels(labels = ['A','B','C','D'],rotation = 0)\n",
    "ax[0].set_title(str(ax1))\n",
    "\n",
    "#stacked bars\n",
    "ax2.plot(kind=\"bar\",stacked = True,ax = ax[1],figsize = (15,4))\n",
    "ax[1].set_xticklabels(labels = ['A','B','C','D'],rotation = 0)\n",
    "ax[1].set_title(str(ax2))\n",
    "plt.show()\n"
   ]
  },
  {
   "cell_type": "code",
   "execution_count": 46,
   "metadata": {},
   "outputs": [
    {
     "name": "stdout",
     "output_type": "stream",
     "text": [
      "Count of each graduate and non-graduate\n",
      " Yes    4965\n",
      "No     3012\n",
      "Name: Graduated, dtype: int64\n"
     ]
    }
   ],
   "source": [
    "print('Count of each graduate and non-graduate\\n',df_train.Graduated.value_counts())\n"
   ]
  },
  {
   "cell_type": "code",
   "execution_count": 47,
   "metadata": {},
   "outputs": [
    {
     "data": {
      "text/plain": [
       "72"
      ]
     },
     "execution_count": 47,
     "metadata": {},
     "output_type": "execute_result"
    }
   ],
   "source": [
    "\n",
    "# Checking the count of missing values\n",
    "df_train.Graduated.isnull().sum()\n"
   ]
  },
  {
   "cell_type": "code",
   "execution_count": 48,
   "metadata": {},
   "outputs": [],
   "source": [
    "\n",
    "# Filling the missing values w.r.t other attributes underlying pattern\n",
    "df_train.loc[ (pd.isnull(df_train[\"Graduated\"])) & (df_train['Spending_Score'] == 'Average'),\"Graduated\"] = 'Yes'\n",
    "df_train.loc[ (pd.isnull(df_train[\"Graduated\"])) & (df_train['Profession'] == 'Artist'),\"Graduated\"] = 'Yes'\n",
    "df_train.loc[ (pd.isnull(df_train[\"Graduated\"])) & (df_train['Age'] > 49),\"Graduated\"] = 'Yes'\n",
    "df_train.loc[ (pd.isnull(df_train[\"Graduated\"])) & (df_train['Var_1'] == 'Cat_4'),\"Graduated\"] = 'No'\n",
    "df_train.loc[ (pd.isnull(df_train[\"Graduated\"])) & (df_train['Ever_Married'] == 'Yes'),\"Graduated\"] = 'Yes'\n",
    "\n",
    "# Replacing remaining NaN with previous values\n",
    "df_train['Graduated'] = df_train['Graduated'].fillna(method='pad')\n"
   ]
  },
  {
   "cell_type": "code",
   "execution_count": 49,
   "metadata": {},
   "outputs": [
    {
     "data": {
      "text/plain": [
       "23"
      ]
     },
     "execution_count": 49,
     "metadata": {},
     "output_type": "execute_result"
    }
   ],
   "source": [
    "# Checking the count of missing values\n",
    "df_test.Graduated.isnull().sum()\n"
   ]
  },
  {
   "cell_type": "code",
   "execution_count": 50,
   "metadata": {},
   "outputs": [],
   "source": [
    "# Filling the missing values w.r.t other attributes underlying pattern\n",
    "df_test.loc[ (pd.isnull(df_test[\"Graduated\"])) & (df_test['Spending_Score'] == 'Average'),\"Graduated\"] = 'Yes'\n",
    "df_test.loc[ (pd.isnull(df_test[\"Graduated\"])) & (df_test['Profession'] == 'Artist'),\"Graduated\"] = 'Yes'\n",
    "df_test.loc[ (pd.isnull(df_test[\"Graduated\"])) & (df_test['Age'] > 49),\"Graduated\"] = 'Yes'\n",
    "df_test.loc[ (pd.isnull(df_test[\"Graduated\"])) & (df_test['Var_1'] == 'Cat_4'),\"Graduated\"] = 'No'\n",
    "df_test.loc[ (pd.isnull(df_test[\"Graduated\"])) & (df_test['Ever_Married'] == 'Yes'),\"Graduated\"] = 'Yes'\n",
    "\n",
    "# Replacing remaining NaN with previous values\n",
    "df_test['Graduated'] = df_test['Graduated'].fillna(method='pad')\n"
   ]
  },
  {
   "cell_type": "code",
   "execution_count": 51,
   "metadata": {},
   "outputs": [
    {
     "data": {
      "image/png": "[encoded data removed]",
      "text/plain": [
       "<Figure size 1080x288 with 2 Axes>"
      ]
     },
     "metadata": {
      "needs_background": "light"
     },
     "output_type": "display_data"
    }
   ],
   "source": [
    "# Counting graduate and non-graduate in each segment\n",
    "ax1 = df_train.groupby([\"Segmentation\"])[\"Graduated\"].value_counts().unstack().round(3)\n",
    "\n",
    "# Percentage of graduate and non-graduate in each segment\n",
    "ax2 = df_train.pivot_table(columns='Graduated',index='Segmentation',values='ID',aggfunc='count')\n",
    "ax2 = ax2.div(ax2.sum(axis=1), axis = 0).round(2)\n",
    "\n",
    "#count plot\n",
    "fig, ax = plt.subplots(1,2)\n",
    "ax1.plot(kind=\"bar\",ax = ax[0],figsize = (15,4))\n",
    "ax[0].set_xticklabels(labels = ['A','B','C','D'],rotation = 0)\n",
    "ax[0].set_title(str(ax1))\n",
    "\n",
    "#stacked bars\n",
    "ax2.plot(kind=\"bar\",stacked = True,ax = ax[1],figsize = (15,4))\n",
    "ax[1].set_xticklabels(labels = ['A','B','C','D'],rotation = 0)\n",
    "ax[1].set_title(str(ax2))\n",
    "plt.show()\n"
   ]
  },
  {
   "cell_type": "code",
   "execution_count": 52,
   "metadata": {},
   "outputs": [
    {
     "name": "stdout",
     "output_type": "stream",
     "text": [
      "The count grouped by profession\n",
      " Artist           2515\n",
      "Healthcare       1331\n",
      "Entertainment     949\n",
      "Engineer          699\n",
      "Doctor            688\n",
      "Lawyer            619\n",
      "Executive         598\n",
      "Marketing         291\n",
      "Homemaker         246\n",
      "Name: Profession, dtype: int64\n"
     ]
    }
   ],
   "source": [
    "print('The count grouped by profession\\n',df_train.Profession.value_counts())"
   ]
  },
  {
   "cell_type": "code",
   "execution_count": 53,
   "metadata": {},
   "outputs": [
    {
     "data": {
      "text/plain": [
       "113"
      ]
     },
     "execution_count": 53,
     "metadata": {},
     "output_type": "execute_result"
    }
   ],
   "source": [
    "# Checking the count of missing values\n",
    "df_train.Profession.isnull().sum()"
   ]
  },
  {
   "cell_type": "code",
   "execution_count": 54,
   "metadata": {},
   "outputs": [],
   "source": [
    "# Filling the missing values w.r.t other attributes underlying pattern\n",
    "df_train.loc[ (pd.isnull(df_train[\"Profession\"])) & (df_train['Work_Experience'] > 8),\"Profession\"] = 'Homemaker'\n",
    "df_train.loc[ (pd.isnull(df_train[\"Profession\"])) & (df_train['Age'] > 70),\"Profession\"] = 'Lawyer'\n",
    "df_train.loc[ (pd.isnull(df_train[\"Profession\"])) & (df_train['Family_Size'] < 3),\"Profession\"] = 'Lawyer'\n",
    "df_train.loc[ (pd.isnull(df_train[\"Profession\"])) & (df_train['Spending_Score'] == 'Average'),\"Profession\"] = 'Artist'\n",
    "df_train.loc[ (pd.isnull(df_train[\"Profession\"])) & (df_train['Graduated'] == 'Yes'),\"Profession\"] = 'Artist'\n",
    "df_train.loc[ (pd.isnull(df_train[\"Profession\"])) & (df_train['Ever_Married'] == 'Yes'),\"Profession\"] = 'Artist'\n",
    "df_train.loc[ (pd.isnull(df_train[\"Profession\"])) & (df_train['Ever_Married'] == 'No'),\"Profession\"] = 'Healthcare'\n",
    "df_train.loc[ (pd.isnull(df_train[\"Profession\"])) & (df_train['Spending_Score'] == 'High'),\"Profession\"] = 'Executives'\n"
   ]
  },
  {
   "cell_type": "code",
   "execution_count": 55,
   "metadata": {},
   "outputs": [
    {
     "data": {
      "text/plain": [
       "35"
      ]
     },
     "execution_count": 55,
     "metadata": {},
     "output_type": "execute_result"
    }
   ],
   "source": [
    "# Checking the count of missing values\n",
    "df_test.Profession.isnull().sum()"
   ]
  },
  {
   "cell_type": "code",
   "execution_count": 56,
   "metadata": {},
   "outputs": [],
   "source": [
    "# Filling the missing values w.r.t other attributes underlying pattern\n",
    "df_test.loc[ (pd.isnull(df_test[\"Profession\"])) & (df_test['Work_Experience'] > 8),\"Profession\"] = 'Homemaker'\n",
    "df_test.loc[ (pd.isnull(df_test[\"Profession\"])) & (df_test['Age'] > 70),\"Profession\"] = 'Lawyer'\n",
    "df_test.loc[ (pd.isnull(df_test[\"Profession\"])) & (df_test['Family_Size'] < 3),\"Profession\"] = 'Lawyer'\n",
    "df_test.loc[ (pd.isnull(df_test[\"Profession\"])) & (df_test['Spending_Score'] == 'Average'),\"Profession\"] = 'Artist'\n",
    "df_test.loc[ (pd.isnull(df_test[\"Profession\"])) & (df_test['Graduated'] == 'Yes'),\"Profession\"] = 'Artist'\n",
    "df_test.loc[ (pd.isnull(df_test[\"Profession\"])) & (df_test['Ever_Married'] == 'Yes'),\"Profession\"] = 'Artist'\n",
    "df_test.loc[ (pd.isnull(df_test[\"Profession\"])) & (df_test['Ever_Married'] == 'No'),\"Profession\"] = 'Healthcare'\n",
    "df_test.loc[ (pd.isnull(df_test[\"Profession\"])) & (df_test['Spending_Score'] == 'High'),\"Profession\"] = 'Executives'\n"
   ]
  },
  {
   "cell_type": "code",
   "execution_count": 57,
   "metadata": {},
   "outputs": [
    {
     "data": {
      "image/png": "[encoded data removed]",
      "text/plain": [
       "<Figure size 1152x360 with 2 Axes>"
      ]
     },
     "metadata": {
      "needs_background": "light"
     },
     "output_type": "display_data"
    }
   ],
   "source": [
    "# Count of segments in each profession\n",
    "ax1 = df_train.groupby([\"Profession\"])[\"Segmentation\"].value_counts().unstack().round(3)\n",
    "\n",
    "# Percentage of segments in each profession\n",
    "ax2 = df_train.pivot_table(columns='Segmentation',index='Profession',values='ID',aggfunc='count')\n",
    "ax2 = ax2.div(ax2.sum(axis=1), axis = 0).round(2)\n",
    "\n",
    "#count plot\n",
    "fig, ax = plt.subplots(1,2)\n",
    "ax1.plot(kind=\"bar\",ax = ax[0],figsize = (16,5))\n",
    "label = ['Artist','Doctor','Engineer','Entertainment','Executives','Healthcare','Homemaker','Lawyer','Marketing']\n",
    "ax[0].set_xticklabels(labels = label,rotation = 45)\n",
    "\n",
    "#stacked bars\n",
    "ax2.plot(kind=\"bar\",stacked = True,ax = ax[1],figsize = (16,5))\n",
    "ax[1].set_xticklabels(labels = label,rotation = 45)\n",
    "\n",
    "plt.show()"
   ]
  },
  {
   "cell_type": "code",
   "execution_count": null,
   "metadata": {},
   "outputs": [],
   "source": [
    "df_train.Work_Experience.describe(percentiles=[0.25,0.5,0.75,0.9,0.95,0.99])"
   ]
  },
  {
   "cell_type": "code",
   "execution_count": 58,
   "metadata": {},
   "outputs": [
    {
     "data": {
      "text/plain": [
       "813"
      ]
     },
     "execution_count": 58,
     "metadata": {},
     "output_type": "execute_result"
    }
   ],
   "source": [
    "\n",
    "# Checking the count of missing values\n",
    "df_train.Work_Experience.isnull().sum()"
   ]
  },
  {
   "cell_type": "code",
   "execution_count": 59,
   "metadata": {},
   "outputs": [],
   "source": [
    "# Replacing NaN with previous values\n",
    "df_train['Work_Experience'] = df_train['Work_Experience'].fillna(method='pad')\n"
   ]
  },
  {
   "cell_type": "code",
   "execution_count": 60,
   "metadata": {},
   "outputs": [
    {
     "data": {
      "text/plain": [
       "264"
      ]
     },
     "execution_count": 60,
     "metadata": {},
     "output_type": "execute_result"
    }
   ],
   "source": [
    "# Checking the count of missing values\n",
    "df_test.Work_Experience.isnull().sum()\n"
   ]
  },
  {
   "cell_type": "code",
   "execution_count": null,
   "metadata": {},
   "outputs": [],
   "source": [
    "# Replacing NaN with previous values\n",
    "df_test['Work_Experience'] = df_test['Work_Experience'].fillna(method='pad')\n"
   ]
  },
  {
   "cell_type": "code",
   "execution_count": 61,
   "metadata": {},
   "outputs": [
    {
     "data": {
      "image/png": "[encoded data removed]",
      "text/plain": [
       "<Figure size 1080x720 with 2 Axes>"
      ]
     },
     "metadata": {
      "needs_background": "light"
     },
     "output_type": "display_data"
    }
   ],
   "source": [
    "# Looking the distribution of column Work Experience\n",
    "plt.figure(figsize=(15,10))\n",
    "\n",
    "skewness = round(df_train.Work_Experience.skew(),2)\n",
    "kurtosis = round(df_train.Work_Experience.kurtosis(),2)\n",
    "mean = round(np.mean(df_train.Work_Experience),0)\n",
    "median = np.median(df_train.Work_Experience)\n",
    "\n",
    "plt.subplot(1,2,1)\n",
    "sns.boxplot(y=df_train.Work_Experience)\n",
    "plt.title('Boxplot\\n Mean:{}\\n Median:{}\\n Skewness:{}\\n Kurtosis:{}'.format(mean,median,skewness,kurtosis))\n",
    "\n",
    "plt.subplot(2,2,2)\n",
    "sns.distplot(df_train.Work_Experience)\n",
    "plt.title('Distribution Plot\\n Mean:{}\\n Median:{}\\n Skewness:{}\\n Kurtosis:{}'.format(mean,median,skewness,kurtosis))\n",
    "\n",
    "plt.show()"
   ]
  },
  {
   "cell_type": "code",
   "execution_count": 63,
   "metadata": {},
   "outputs": [
    {
     "data": {
      "image/png": "[encoded data removed]",
      "text/plain": [
       "<Figure size 1080x360 with 2 Axes>"
      ]
     },
     "metadata": {
      "needs_background": "light"
     },
     "output_type": "display_data"
    }
   ],
   "source": [
    "#Looking the distribution of column Work_Experience w.r.t to each segment\n",
    "a = df_train[df_train.Segmentation =='A'][\"Work_Experience\"]\n",
    "b = df_train[df_train.Segmentation =='B'][\"Work_Experience\"]\n",
    "c = df_train[df_train.Segmentation =='C'][\"Work_Experience\"]\n",
    "d = df_train[df_train.Segmentation =='D'][\"Work_Experience\"]\n",
    "\n",
    "plt.figure(figsize=(15,5))\n",
    "\n",
    "plt.subplot(1,2,1)\n",
    "sns.boxplot(data = df_train, x = \"Segmentation\", y=\"Work_Experience\")\n",
    "plt.title('Boxplot')\n",
    "\n",
    "plt.subplot(1,2,2)\n",
    "sns.kdeplot(a,shade= False, label = 'A')\n",
    "sns.kdeplot(b,shade= False, label = 'B')\n",
    "sns.kdeplot(c,shade= False, label = 'C')\n",
    "sns.kdeplot(d,shade= False, label = 'D')\n",
    "plt.xlabel('Work Experience')\n",
    "plt.ylabel('Density')\n",
    "plt.title(\"Mean\\n A: {}\\n B: {}\\n C: {}\\n D: {}\".format(round(a.mean(),0),round(b.mean(),0),round(c.mean(),0),round(d.mean(),0)))\n",
    "\n",
    "plt.show()"
   ]
  },
  {
   "cell_type": "code",
   "execution_count": 64,
   "metadata": {},
   "outputs": [],
   "source": [
    "\n",
    "# Dividing the people into 3 category of work experience \n",
    "df_train['Work_Exp_Category'] = pd.cut(df_train.Work_Experience,bins=[-1,1,7,15],labels=['Low Experience','Medium Experience','High Experience'])\n"
   ]
  },
  {
   "cell_type": "code",
   "execution_count": 65,
   "metadata": {},
   "outputs": [
    {
     "data": {
      "image/png": "[encoded data removed]",
      "text/plain": [
       "<Figure size 1080x288 with 2 Axes>"
      ]
     },
     "metadata": {
      "needs_background": "light"
     },
     "output_type": "display_data"
    }
   ],
   "source": [
    "# Counting different category of work experience in each segment\n",
    "ax1 = df_train.groupby([\"Segmentation\"])[\"Work_Exp_Category\"].value_counts().unstack().round(3)\n",
    "\n",
    "# Percentage of work experience in each segment\n",
    "ax2 = df_train.pivot_table(columns='Work_Exp_Category',index='Segmentation',values='ID',aggfunc='count')\n",
    "ax2 = ax2.div(ax2.sum(axis=1), axis = 0).round(2)\n",
    "\n",
    "#count plot\n",
    "fig, ax = plt.subplots(1,2)\n",
    "ax1.plot(kind=\"bar\",ax = ax[0],figsize = (15,4))\n",
    "ax[0].set_xticklabels(labels = ['A','B','C','D'],rotation = 0)\n",
    "ax[0].set_title(str(ax1))\n",
    "\n",
    "#stacked bars\n",
    "ax2.plot(kind=\"bar\",stacked = True,ax = ax[1],figsize = (15,4))\n",
    "ax[1].set_xticklabels(labels = ['A','B','C','D'],rotation = 0)\n",
    "ax[1].set_title(str(ax2))\n",
    "plt.show()"
   ]
  },
  {
   "cell_type": "code",
   "execution_count": 66,
   "metadata": {},
   "outputs": [],
   "source": [
    "# Dividing the people into 3 category of work experience \n",
    "df_test['Work_Exp_Category'] = pd.cut(df_train.Work_Experience,bins=[-1,1,7,15],labels=['Low Experience','Medium Experience','High Experience'])\n"
   ]
  },
  {
   "cell_type": "code",
   "execution_count": 67,
   "metadata": {},
   "outputs": [
    {
     "name": "stdout",
     "output_type": "stream",
     "text": [
      "The count grouped by spending score\n",
      " Low        4869\n",
      "Average    1970\n",
      "High       1210\n",
      "Name: Spending_Score, dtype: int64\n"
     ]
    }
   ],
   "source": [
    "print('The count grouped by spending score\\n',df_train.Spending_Score.value_counts())"
   ]
  },
  {
   "cell_type": "code",
   "execution_count": 68,
   "metadata": {},
   "outputs": [
    {
     "data": {
      "text/plain": [
       "0"
      ]
     },
     "execution_count": 68,
     "metadata": {},
     "output_type": "execute_result"
    }
   ],
   "source": [
    "# Checking the count of missing values\n",
    "df_train.Spending_Score.isnull().sum()"
   ]
  },
  {
   "cell_type": "code",
   "execution_count": 69,
   "metadata": {},
   "outputs": [
    {
     "data": {
      "text/plain": [
       "0"
      ]
     },
     "execution_count": 69,
     "metadata": {},
     "output_type": "execute_result"
    }
   ],
   "source": [
    "# Checking the count of missing values\n",
    "df_test.Spending_Score.isnull().sum()"
   ]
  },
  {
   "cell_type": "code",
   "execution_count": 70,
   "metadata": {},
   "outputs": [
    {
     "data": {
      "image/png": "[encoded data removed]",
      "text/plain": [
       "<Figure size 1080x288 with 2 Axes>"
      ]
     },
     "metadata": {
      "needs_background": "light"
     },
     "output_type": "display_data"
    }
   ],
   "source": [
    "# Counting different category of spending score in each segment\n",
    "ax1 = df_train.groupby([\"Segmentation\"])[\"Spending_Score\"].value_counts().unstack().round(3)\n",
    "\n",
    "# Percentage of spending score in each segment\n",
    "ax2 = df_train.pivot_table(columns='Spending_Score',index='Segmentation',values='ID',aggfunc='count')\n",
    "ax2 = ax2.div(ax2.sum(axis=1), axis = 0).round(2)\n",
    "\n",
    "#count plot\n",
    "fig, ax = plt.subplots(1,2)\n",
    "ax1.plot(kind=\"bar\",ax = ax[0],figsize = (15,4))\n",
    "ax[0].set_xticklabels(labels = ['A','B','C','D'],rotation = 0)\n",
    "ax[0].set_title(str(ax1))\n",
    "\n",
    "#stacked bars\n",
    "ax2.plot(kind=\"bar\",stacked = True,ax = ax[1],figsize = (15,4))\n",
    "ax[1].set_xticklabels(labels = ['A','B','C','D'],rotation = 0)\n",
    "ax[1].set_title(str(ax2))\n",
    "plt.show()"
   ]
  },
  {
   "cell_type": "code",
   "execution_count": 71,
   "metadata": {},
   "outputs": [
    {
     "data": {
      "text/plain": [
       "count    7729.000000\n",
       "mean        2.850175\n",
       "std         1.531523\n",
       "min         1.000000\n",
       "25%         2.000000\n",
       "50%         3.000000\n",
       "75%         4.000000\n",
       "90%         5.000000\n",
       "95%         6.000000\n",
       "99%         8.000000\n",
       "max         9.000000\n",
       "Name: Family_Size, dtype: float64"
      ]
     },
     "execution_count": 71,
     "metadata": {},
     "output_type": "execute_result"
    }
   ],
   "source": [
    "df_train.Family_Size.describe(percentiles=[0.25,0.5,0.75,0.9,0.95,0.99])"
   ]
  },
  {
   "cell_type": "code",
   "execution_count": 72,
   "metadata": {},
   "outputs": [
    {
     "data": {
      "text/plain": [
       "320"
      ]
     },
     "execution_count": 72,
     "metadata": {},
     "output_type": "execute_result"
    }
   ],
   "source": [
    "# Checking the count of missing values\n",
    "df_train.Family_Size.isnull().sum()\n"
   ]
  },
  {
   "cell_type": "code",
   "execution_count": 73,
   "metadata": {},
   "outputs": [],
   "source": [
    "# Filling the missing values w.r.t other attributes underlying pattern\n",
    "df_train.loc[ (pd.isnull(df_train[\"Family_Size\"])) & (df_train['Ever_Married'] == 'Yes'),\"Family_Size\"] = 2.0\n",
    "df_train.loc[ (pd.isnull(df_train[\"Family_Size\"])) & (df_train['Var_1'] == 'Cat_6'),\"Family_Size\"] = 2.0\n",
    "df_train.loc[ (pd.isnull(df_train[\"Family_Size\"])) & (df_train['Graduated'] == 'Yes'),\"Family_Size\"] = 2.0\n",
    "\n",
    "# Fill remaining NaN with previous values\n",
    "df_train['Family_Size'] = df_train['Family_Size'].fillna(method='pad')\n"
   ]
  },
  {
   "cell_type": "code",
   "execution_count": 74,
   "metadata": {},
   "outputs": [
    {
     "data": {
      "text/plain": [
       "109"
      ]
     },
     "execution_count": 74,
     "metadata": {},
     "output_type": "execute_result"
    }
   ],
   "source": [
    "# Checking the count of missing values\n",
    "df_test.Family_Size.isnull().sum()\n"
   ]
  },
  {
   "cell_type": "code",
   "execution_count": 75,
   "metadata": {},
   "outputs": [],
   "source": [
    "# Filling the missing values w.r.t other attributes underlying pattern\n",
    "df_test.loc[ (pd.isnull(df_test[\"Family_Size\"])) & (df_test['Ever_Married'] == 'Yes'),\"Family_Size\"] = 2.0\n",
    "df_test.loc[ (pd.isnull(df_test[\"Family_Size\"])) & (df_test['Var_1'] == 'Cat_6'),\"Family_Size\"] = 2.0\n",
    "df_test.loc[ (pd.isnull(df_test[\"Family_Size\"])) & (df_test['Graduated'] == 'Yes'),\"Family_Size\"] = 2.0\n",
    "\n",
    "# Fill remaining NaN with previous values\n",
    "df_test['Family_Size'] = df_test['Family_Size'].fillna(method='pad')\n"
   ]
  },
  {
   "cell_type": "code",
   "execution_count": 76,
   "metadata": {},
   "outputs": [
    {
     "data": {
      "image/png": "[encoded data removed]",
      "text/plain": [
       "<Figure size 1080x720 with 2 Axes>"
      ]
     },
     "metadata": {
      "needs_background": "light"
     },
     "output_type": "display_data"
    }
   ],
   "source": [
    "# Looking the distribution of column Work Experience\n",
    "plt.figure(figsize=(15,10))\n",
    "\n",
    "skewness = round(df_train.Family_Size.skew(),2)\n",
    "kurtosis = round(df_train.Family_Size.kurtosis(),2)\n",
    "mean = round(np.mean(df_train.Family_Size),0)\n",
    "median = np.median(df_train.Family_Size)\n",
    "\n",
    "plt.subplot(1,2,1)\n",
    "sns.boxplot(y=df_train.Family_Size)\n",
    "plt.title('Boxplot\\n Mean:{}\\n Median:{}\\n Skewness:{}\\n Kurtosis:{}'.format(mean,median,skewness,kurtosis))\n",
    "\n",
    "plt.subplot(2,2,2)\n",
    "sns.distplot(df_train.Family_Size)\n",
    "plt.title('Distribution Plot\\n Mean:{}\\n Median:{}\\n Skewness:{}\\n Kurtosis:{}'.format(mean,median,skewness,kurtosis))\n",
    "\n",
    "plt.show()"
   ]
  },
  {
   "cell_type": "code",
   "execution_count": 77,
   "metadata": {},
   "outputs": [
    {
     "data": {
      "image/png": "[encoded data removed]",
      "text/plain": [
       "<Figure size 1080x360 with 2 Axes>"
      ]
     },
     "metadata": {
      "needs_background": "light"
     },
     "output_type": "display_data"
    }
   ],
   "source": [
    "# Looking the distribution of column Family Size w.r.t to each segment\n",
    "a = df_train[df_train.Segmentation =='A'][\"Family_Size\"]\n",
    "b = df_train[df_train.Segmentation =='B'][\"Family_Size\"]\n",
    "c = df_train[df_train.Segmentation =='C'][\"Family_Size\"]\n",
    "d = df_train[df_train.Segmentation =='D'][\"Family_Size\"]\n",
    "\n",
    "plt.figure(figsize=(15,5))\n",
    "\n",
    "plt.subplot(1,2,1)\n",
    "sns.boxplot(data = df_train, x = \"Segmentation\", y=\"Family_Size\")\n",
    "plt.title('Boxplot')\n",
    "\n",
    "plt.subplot(1,2,2)\n",
    "sns.kdeplot(a,shade= False, label = 'A')\n",
    "sns.kdeplot(b,shade= False, label = 'B')\n",
    "sns.kdeplot(c,shade= False, label = 'C')\n",
    "sns.kdeplot(d,shade= False, label = 'D')\n",
    "plt.xlabel('Family Size')\n",
    "plt.ylabel('Density')\n",
    "plt.title(\"Mean\\n A: {}\\n B: {}\\n C: {}\\n D: {}\".format(round(a.mean(),0),round(b.mean(),0),round(c.mean(),0),round(d.mean(),0)))\n",
    "\n",
    "plt.show()"
   ]
  },
  {
   "cell_type": "code",
   "execution_count": 78,
   "metadata": {},
   "outputs": [],
   "source": [
    "# Changing the data type\n",
    "df_train['Family_Size'] = df_train['Family_Size'].astype(int)\n"
   ]
  },
  {
   "cell_type": "code",
   "execution_count": 79,
   "metadata": {},
   "outputs": [
    {
     "data": {
      "text/plain": [
       "count    8049.000000\n",
       "mean        2.820475\n",
       "std         1.513836\n",
       "min         1.000000\n",
       "25%         2.000000\n",
       "50%         2.000000\n",
       "75%         4.000000\n",
       "90%         5.000000\n",
       "95%         6.000000\n",
       "99%         8.000000\n",
       "max         9.000000\n",
       "Name: Family_Size, dtype: float64"
      ]
     },
     "execution_count": 79,
     "metadata": {},
     "output_type": "execute_result"
    }
   ],
   "source": [
    "df_train.Family_Size.describe(percentiles=[0.25,0.5,0.75,0.9,0.95,0.99])\n"
   ]
  },
  {
   "cell_type": "code",
   "execution_count": 80,
   "metadata": {},
   "outputs": [],
   "source": [
    "# Divide family size into 3 category\n",
    "df_train['Family_Size_Category'] = pd.cut(df_train.Family_Size,bins=[0,4,6,10],labels=['Small Family','Big Family','Joint Family'])\n"
   ]
  },
  {
   "cell_type": "code",
   "execution_count": 81,
   "metadata": {},
   "outputs": [],
   "source": [
    "# Changing the data type\n",
    "df_test['Family_Size'] = df_test['Family_Size'].astype(int)\n"
   ]
  },
  {
   "cell_type": "code",
   "execution_count": 82,
   "metadata": {},
   "outputs": [
    {
     "data": {
      "text/plain": [
       "count    2621.000000\n",
       "mean        2.804273\n",
       "std         1.541115\n",
       "min         1.000000\n",
       "25%         2.000000\n",
       "50%         2.000000\n",
       "75%         4.000000\n",
       "90%         5.000000\n",
       "95%         6.000000\n",
       "99%         8.000000\n",
       "max         9.000000\n",
       "Name: Family_Size, dtype: float64"
      ]
     },
     "execution_count": 82,
     "metadata": {},
     "output_type": "execute_result"
    }
   ],
   "source": [
    "df_test.Family_Size.describe(percentiles=[0.25,0.5,0.75,0.9,0.95,0.99])"
   ]
  },
  {
   "cell_type": "code",
   "execution_count": 83,
   "metadata": {},
   "outputs": [],
   "source": [
    "# Divide family size into 3 category\n",
    "df_test['Family_Size_Category'] = pd.cut(df_test.Family_Size,bins=[0,4,6,10],labels=['Small Family','Big Family','Joint Family'])\n"
   ]
  },
  {
   "cell_type": "code",
   "execution_count": 84,
   "metadata": {},
   "outputs": [
    {
     "data": {
      "image/png": "[encoded data removed]",
      "text/plain": [
       "<Figure size 1080x288 with 2 Axes>"
      ]
     },
     "metadata": {
      "needs_background": "light"
     },
     "output_type": "display_data"
    }
   ],
   "source": [
    "# Counting different category of family size in each segment\n",
    "ax1 = df_train.groupby([\"Segmentation\"])[\"Family_Size_Category\"].value_counts().unstack().round(3)\n",
    "\n",
    "# Percentage of family size in each segment\n",
    "ax2 = df_train.pivot_table(columns='Family_Size_Category',index='Segmentation',values='ID',aggfunc='count')\n",
    "ax2 = ax2.div(ax2.sum(axis=1), axis = 0).round(3)\n",
    "\n",
    "#count plot\n",
    "fig, ax = plt.subplots(1,2)\n",
    "ax1.plot(kind=\"bar\",ax = ax[0],figsize = (15,4))\n",
    "ax[0].set_xticklabels(labels = ['A','B','C','D'],rotation = 0)\n",
    "ax[0].set_title(str(ax1))\n",
    "\n",
    "#stacked bars\n",
    "ax2.plot(kind=\"bar\",stacked = True,ax = ax[1],figsize = (15,4))\n",
    "ax[1].set_xticklabels(labels = ['A','B','C','D'],rotation = 0)\n",
    "ax[1].set_title(str(ax2))\n",
    "plt.show()"
   ]
  },
  {
   "cell_type": "code",
   "execution_count": 86,
   "metadata": {},
   "outputs": [
    {
     "name": "stdout",
     "output_type": "stream",
     "text": [
      "Count of each category of segmentation\n",
      " D    2261\n",
      "C    1968\n",
      "A    1965\n",
      "B    1855\n",
      "Name: Segmentation, dtype: int64\n"
     ]
    }
   ],
   "source": [
    "print('Count of each category of segmentation\\n',df_train.Segmentation.value_counts())"
   ]
  },
  {
   "cell_type": "code",
   "execution_count": 87,
   "metadata": {},
   "outputs": [
    {
     "data": {
      "image/png": "[encoded data removed]",
      "text/plain": [
       "<Figure size 432x288 with 1 Axes>"
      ]
     },
     "metadata": {
      "needs_background": "light"
     },
     "output_type": "display_data"
    }
   ],
   "source": [
    "segments = df_train.loc[:,\"Segmentation\"].value_counts()\n",
    "plt.xlabel(\"Segment\")\n",
    "plt.ylabel('Count')\n",
    "sns.barplot(segments.index , segments.values).set_title('Segments')\n",
    "plt.show()\n"
   ]
  },
  {
   "cell_type": "code",
   "execution_count": 88,
   "metadata": {},
   "outputs": [
    {
     "name": "stdout",
     "output_type": "stream",
     "text": [
      "<class 'pandas.core.frame.DataFrame'>\n",
      "RangeIndex: 8049 entries, 0 to 8048\n",
      "Data columns (total 14 columns):\n",
      " #   Column                Non-Null Count  Dtype   \n",
      "---  ------                --------------  -----   \n",
      " 0   ID                    8049 non-null   int64   \n",
      " 1   Gender                8049 non-null   object  \n",
      " 2   Ever_Married          8049 non-null   object  \n",
      " 3   Age                   8049 non-null   int64   \n",
      " 4   Graduated             8049 non-null   object  \n",
      " 5   Profession            8049 non-null   object  \n",
      " 6   Work_Experience       8049 non-null   float64 \n",
      " 7   Spending_Score        8049 non-null   object  \n",
      " 8   Family_Size           8049 non-null   int64   \n",
      " 9   Var_1                 8049 non-null   object  \n",
      " 10  Segmentation          8049 non-null   object  \n",
      " 11  Age_Bin               8049 non-null   category\n",
      " 12  Work_Exp_Category     8049 non-null   category\n",
      " 13  Family_Size_Category  8049 non-null   category\n",
      "dtypes: category(3), float64(1), int64(3), object(7)\n",
      "memory usage: 715.9+ KB\n"
     ]
    }
   ],
   "source": [
    "df_train.reset_index(drop=True, inplace=True)\n",
    "df_train.info()"
   ]
  },
  {
   "cell_type": "code",
   "execution_count": 89,
   "metadata": {},
   "outputs": [
    {
     "data": {
      "text/plain": [
       "8049"
      ]
     },
     "execution_count": 89,
     "metadata": {},
     "output_type": "execute_result"
    }
   ],
   "source": [
    "# number of unique ids\n",
    "df_train.ID.nunique()"
   ]
  },
  {
   "cell_type": "code",
   "execution_count": 90,
   "metadata": {},
   "outputs": [
    {
     "data": {
      "text/plain": [
       "2621"
      ]
     },
     "execution_count": 90,
     "metadata": {},
     "output_type": "execute_result"
    }
   ],
   "source": [
    "# number of unique ids in Test Set\n",
    "df_test.ID.nunique()"
   ]
  },
  {
   "cell_type": "code",
   "execution_count": 91,
   "metadata": {},
   "outputs": [
    {
     "data": {
      "text/html": [
       "<div>\n",
       "<style scoped>\n",
       "    .dataframe tbody tr th:only-of-type {\n",
       "        vertical-align: middle;\n",
       "    }\n",
       "\n",
       "    .dataframe tbody tr th {\n",
       "        vertical-align: top;\n",
       "    }\n",
       "\n",
       "    .dataframe thead th {\n",
       "        text-align: right;\n",
       "    }\n",
       "</style>\n",
       "<table border=\"1\" class=\"dataframe\">\n",
       "  <thead>\n",
       "    <tr style=\"text-align: right;\">\n",
       "      <th></th>\n",
       "      <th>ID</th>\n",
       "      <th>Gender</th>\n",
       "      <th>Ever_Married</th>\n",
       "      <th>Age</th>\n",
       "      <th>Graduated</th>\n",
       "      <th>Profession</th>\n",
       "      <th>Work_Experience</th>\n",
       "      <th>Spending_Score</th>\n",
       "      <th>Family_Size</th>\n",
       "      <th>Var_1</th>\n",
       "      <th>Segmentation</th>\n",
       "      <th>Age_Bin</th>\n",
       "      <th>Work_Exp_Category</th>\n",
       "      <th>Family_Size_Category</th>\n",
       "    </tr>\n",
       "  </thead>\n",
       "  <tbody>\n",
       "    <tr>\n",
       "      <th>count</th>\n",
       "      <td>8049.000000</td>\n",
       "      <td>8049</td>\n",
       "      <td>8049</td>\n",
       "      <td>8049.000000</td>\n",
       "      <td>8049</td>\n",
       "      <td>8049</td>\n",
       "      <td>8049.000000</td>\n",
       "      <td>8049</td>\n",
       "      <td>8049.000000</td>\n",
       "      <td>8049</td>\n",
       "      <td>8049</td>\n",
       "      <td>8049</td>\n",
       "      <td>8049</td>\n",
       "      <td>8049</td>\n",
       "    </tr>\n",
       "    <tr>\n",
       "      <th>unique</th>\n",
       "      <td>NaN</td>\n",
       "      <td>2</td>\n",
       "      <td>2</td>\n",
       "      <td>NaN</td>\n",
       "      <td>2</td>\n",
       "      <td>9</td>\n",
       "      <td>NaN</td>\n",
       "      <td>3</td>\n",
       "      <td>NaN</td>\n",
       "      <td>7</td>\n",
       "      <td>4</td>\n",
       "      <td>4</td>\n",
       "      <td>3</td>\n",
       "      <td>3</td>\n",
       "    </tr>\n",
       "    <tr>\n",
       "      <th>top</th>\n",
       "      <td>NaN</td>\n",
       "      <td>Male</td>\n",
       "      <td>Yes</td>\n",
       "      <td>NaN</td>\n",
       "      <td>Yes</td>\n",
       "      <td>Artist</td>\n",
       "      <td>NaN</td>\n",
       "      <td>Low</td>\n",
       "      <td>NaN</td>\n",
       "      <td>Cat_6</td>\n",
       "      <td>D</td>\n",
       "      <td>31-45</td>\n",
       "      <td>Low Experience</td>\n",
       "      <td>Small Family</td>\n",
       "    </tr>\n",
       "    <tr>\n",
       "      <th>freq</th>\n",
       "      <td>NaN</td>\n",
       "      <td>4409</td>\n",
       "      <td>4706</td>\n",
       "      <td>NaN</td>\n",
       "      <td>5023</td>\n",
       "      <td>2544</td>\n",
       "      <td>NaN</td>\n",
       "      <td>4869</td>\n",
       "      <td>NaN</td>\n",
       "      <td>5271</td>\n",
       "      <td>2261</td>\n",
       "      <td>2835</td>\n",
       "      <td>5215</td>\n",
       "      <td>7030</td>\n",
       "    </tr>\n",
       "    <tr>\n",
       "      <th>mean</th>\n",
       "      <td>463481.549012</td>\n",
       "      <td>NaN</td>\n",
       "      <td>NaN</td>\n",
       "      <td>43.458442</td>\n",
       "      <td>NaN</td>\n",
       "      <td>NaN</td>\n",
       "      <td>2.617965</td>\n",
       "      <td>NaN</td>\n",
       "      <td>2.820475</td>\n",
       "      <td>NaN</td>\n",
       "      <td>NaN</td>\n",
       "      <td>NaN</td>\n",
       "      <td>NaN</td>\n",
       "      <td>NaN</td>\n",
       "    </tr>\n",
       "    <tr>\n",
       "      <th>std</th>\n",
       "      <td>2595.221174</td>\n",
       "      <td>NaN</td>\n",
       "      <td>NaN</td>\n",
       "      <td>16.704328</td>\n",
       "      <td>NaN</td>\n",
       "      <td>NaN</td>\n",
       "      <td>3.394392</td>\n",
       "      <td>NaN</td>\n",
       "      <td>1.513836</td>\n",
       "      <td>NaN</td>\n",
       "      <td>NaN</td>\n",
       "      <td>NaN</td>\n",
       "      <td>NaN</td>\n",
       "      <td>NaN</td>\n",
       "    </tr>\n",
       "    <tr>\n",
       "      <th>min</th>\n",
       "      <td>458982.000000</td>\n",
       "      <td>NaN</td>\n",
       "      <td>NaN</td>\n",
       "      <td>18.000000</td>\n",
       "      <td>NaN</td>\n",
       "      <td>NaN</td>\n",
       "      <td>0.000000</td>\n",
       "      <td>NaN</td>\n",
       "      <td>1.000000</td>\n",
       "      <td>NaN</td>\n",
       "      <td>NaN</td>\n",
       "      <td>NaN</td>\n",
       "      <td>NaN</td>\n",
       "      <td>NaN</td>\n",
       "    </tr>\n",
       "    <tr>\n",
       "      <th>25%</th>\n",
       "      <td>461244.000000</td>\n",
       "      <td>NaN</td>\n",
       "      <td>NaN</td>\n",
       "      <td>30.000000</td>\n",
       "      <td>NaN</td>\n",
       "      <td>NaN</td>\n",
       "      <td>0.000000</td>\n",
       "      <td>NaN</td>\n",
       "      <td>2.000000</td>\n",
       "      <td>NaN</td>\n",
       "      <td>NaN</td>\n",
       "      <td>NaN</td>\n",
       "      <td>NaN</td>\n",
       "      <td>NaN</td>\n",
       "    </tr>\n",
       "    <tr>\n",
       "      <th>50%</th>\n",
       "      <td>463476.000000</td>\n",
       "      <td>NaN</td>\n",
       "      <td>NaN</td>\n",
       "      <td>40.000000</td>\n",
       "      <td>NaN</td>\n",
       "      <td>NaN</td>\n",
       "      <td>1.000000</td>\n",
       "      <td>NaN</td>\n",
       "      <td>2.000000</td>\n",
       "      <td>NaN</td>\n",
       "      <td>NaN</td>\n",
       "      <td>NaN</td>\n",
       "      <td>NaN</td>\n",
       "      <td>NaN</td>\n",
       "    </tr>\n",
       "    <tr>\n",
       "      <th>75%</th>\n",
       "      <td>465746.000000</td>\n",
       "      <td>NaN</td>\n",
       "      <td>NaN</td>\n",
       "      <td>53.000000</td>\n",
       "      <td>NaN</td>\n",
       "      <td>NaN</td>\n",
       "      <td>4.000000</td>\n",
       "      <td>NaN</td>\n",
       "      <td>4.000000</td>\n",
       "      <td>NaN</td>\n",
       "      <td>NaN</td>\n",
       "      <td>NaN</td>\n",
       "      <td>NaN</td>\n",
       "      <td>NaN</td>\n",
       "    </tr>\n",
       "    <tr>\n",
       "      <th>max</th>\n",
       "      <td>467974.000000</td>\n",
       "      <td>NaN</td>\n",
       "      <td>NaN</td>\n",
       "      <td>89.000000</td>\n",
       "      <td>NaN</td>\n",
       "      <td>NaN</td>\n",
       "      <td>14.000000</td>\n",
       "      <td>NaN</td>\n",
       "      <td>9.000000</td>\n",
       "      <td>NaN</td>\n",
       "      <td>NaN</td>\n",
       "      <td>NaN</td>\n",
       "      <td>NaN</td>\n",
       "      <td>NaN</td>\n",
       "    </tr>\n",
       "  </tbody>\n",
       "</table>\n",
       "</div>"
      ],
      "text/plain": [
       "                   ID Gender Ever_Married          Age Graduated Profession  \\\n",
       "count     8049.000000   8049         8049  8049.000000      8049       8049   \n",
       "unique            NaN      2            2          NaN         2          9   \n",
       "top               NaN   Male          Yes          NaN       Yes     Artist   \n",
       "freq              NaN   4409         4706          NaN      5023       2544   \n",
       "mean    463481.549012    NaN          NaN    43.458442       NaN        NaN   \n",
       "std       2595.221174    NaN          NaN    16.704328       NaN        NaN   \n",
       "min     458982.000000    NaN          NaN    18.000000       NaN        NaN   \n",
       "25%     461244.000000    NaN          NaN    30.000000       NaN        NaN   \n",
       "50%     463476.000000    NaN          NaN    40.000000       NaN        NaN   \n",
       "75%     465746.000000    NaN          NaN    53.000000       NaN        NaN   \n",
       "max     467974.000000    NaN          NaN    89.000000       NaN        NaN   \n",
       "\n",
       "        Work_Experience Spending_Score  Family_Size  Var_1 Segmentation  \\\n",
       "count       8049.000000           8049  8049.000000   8049         8049   \n",
       "unique              NaN              3          NaN      7            4   \n",
       "top                 NaN            Low          NaN  Cat_6            D   \n",
       "freq                NaN           4869          NaN   5271         2261   \n",
       "mean           2.617965            NaN     2.820475    NaN          NaN   \n",
       "std            3.394392            NaN     1.513836    NaN          NaN   \n",
       "min            0.000000            NaN     1.000000    NaN          NaN   \n",
       "25%            0.000000            NaN     2.000000    NaN          NaN   \n",
       "50%            1.000000            NaN     2.000000    NaN          NaN   \n",
       "75%            4.000000            NaN     4.000000    NaN          NaN   \n",
       "max           14.000000            NaN     9.000000    NaN          NaN   \n",
       "\n",
       "       Age_Bin Work_Exp_Category Family_Size_Category  \n",
       "count     8049              8049                 8049  \n",
       "unique       4                 3                    3  \n",
       "top      31-45    Low Experience         Small Family  \n",
       "freq      2835              5215                 7030  \n",
       "mean       NaN               NaN                  NaN  \n",
       "std        NaN               NaN                  NaN  \n",
       "min        NaN               NaN                  NaN  \n",
       "25%        NaN               NaN                  NaN  \n",
       "50%        NaN               NaN                  NaN  \n",
       "75%        NaN               NaN                  NaN  \n",
       "max        NaN               NaN                  NaN  "
      ]
     },
     "execution_count": 91,
     "metadata": {},
     "output_type": "execute_result"
    }
   ],
   "source": [
    "df_train.describe(include='all')"
   ]
  },
  {
   "cell_type": "code",
   "execution_count": 92,
   "metadata": {},
   "outputs": [
    {
     "data": {
      "text/html": [
       "<div>\n",
       "<style scoped>\n",
       "    .dataframe tbody tr th:only-of-type {\n",
       "        vertical-align: middle;\n",
       "    }\n",
       "\n",
       "    .dataframe tbody tr th {\n",
       "        vertical-align: top;\n",
       "    }\n",
       "\n",
       "    .dataframe thead th {\n",
       "        text-align: right;\n",
       "    }\n",
       "</style>\n",
       "<table border=\"1\" class=\"dataframe\">\n",
       "  <thead>\n",
       "    <tr style=\"text-align: right;\">\n",
       "      <th></th>\n",
       "      <th>ID</th>\n",
       "      <th>Gender</th>\n",
       "      <th>Ever_Married</th>\n",
       "      <th>Age</th>\n",
       "      <th>Age_Bin</th>\n",
       "      <th>Graduated</th>\n",
       "      <th>Profession</th>\n",
       "      <th>Work_Experience</th>\n",
       "      <th>Work_Exp_Category</th>\n",
       "      <th>Spending_Score</th>\n",
       "      <th>Family_Size</th>\n",
       "      <th>Family_Size_Category</th>\n",
       "      <th>Var_1</th>\n",
       "      <th>Segmentation</th>\n",
       "    </tr>\n",
       "  </thead>\n",
       "  <tbody>\n",
       "    <tr>\n",
       "      <th>0</th>\n",
       "      <td>462809</td>\n",
       "      <td>Male</td>\n",
       "      <td>No</td>\n",
       "      <td>22</td>\n",
       "      <td>17-30</td>\n",
       "      <td>No</td>\n",
       "      <td>Healthcare</td>\n",
       "      <td>1.0</td>\n",
       "      <td>Low Experience</td>\n",
       "      <td>Low</td>\n",
       "      <td>4</td>\n",
       "      <td>Small Family</td>\n",
       "      <td>Cat_4</td>\n",
       "      <td>D</td>\n",
       "    </tr>\n",
       "    <tr>\n",
       "      <th>1</th>\n",
       "      <td>462643</td>\n",
       "      <td>Female</td>\n",
       "      <td>Yes</td>\n",
       "      <td>38</td>\n",
       "      <td>31-45</td>\n",
       "      <td>Yes</td>\n",
       "      <td>Engineer</td>\n",
       "      <td>1.0</td>\n",
       "      <td>Low Experience</td>\n",
       "      <td>Average</td>\n",
       "      <td>3</td>\n",
       "      <td>Small Family</td>\n",
       "      <td>Cat_4</td>\n",
       "      <td>A</td>\n",
       "    </tr>\n",
       "    <tr>\n",
       "      <th>2</th>\n",
       "      <td>466315</td>\n",
       "      <td>Female</td>\n",
       "      <td>Yes</td>\n",
       "      <td>67</td>\n",
       "      <td>60+</td>\n",
       "      <td>Yes</td>\n",
       "      <td>Engineer</td>\n",
       "      <td>1.0</td>\n",
       "      <td>Low Experience</td>\n",
       "      <td>Low</td>\n",
       "      <td>1</td>\n",
       "      <td>Small Family</td>\n",
       "      <td>Cat_6</td>\n",
       "      <td>B</td>\n",
       "    </tr>\n",
       "    <tr>\n",
       "      <th>3</th>\n",
       "      <td>461735</td>\n",
       "      <td>Male</td>\n",
       "      <td>Yes</td>\n",
       "      <td>67</td>\n",
       "      <td>60+</td>\n",
       "      <td>Yes</td>\n",
       "      <td>Lawyer</td>\n",
       "      <td>0.0</td>\n",
       "      <td>Low Experience</td>\n",
       "      <td>High</td>\n",
       "      <td>2</td>\n",
       "      <td>Small Family</td>\n",
       "      <td>Cat_6</td>\n",
       "      <td>B</td>\n",
       "    </tr>\n",
       "    <tr>\n",
       "      <th>4</th>\n",
       "      <td>462669</td>\n",
       "      <td>Female</td>\n",
       "      <td>Yes</td>\n",
       "      <td>40</td>\n",
       "      <td>31-45</td>\n",
       "      <td>Yes</td>\n",
       "      <td>Entertainment</td>\n",
       "      <td>0.0</td>\n",
       "      <td>Low Experience</td>\n",
       "      <td>High</td>\n",
       "      <td>6</td>\n",
       "      <td>Big Family</td>\n",
       "      <td>Cat_6</td>\n",
       "      <td>A</td>\n",
       "    </tr>\n",
       "    <tr>\n",
       "      <th>5</th>\n",
       "      <td>461319</td>\n",
       "      <td>Male</td>\n",
       "      <td>Yes</td>\n",
       "      <td>56</td>\n",
       "      <td>46-60</td>\n",
       "      <td>No</td>\n",
       "      <td>Artist</td>\n",
       "      <td>0.0</td>\n",
       "      <td>Low Experience</td>\n",
       "      <td>Average</td>\n",
       "      <td>2</td>\n",
       "      <td>Small Family</td>\n",
       "      <td>Cat_6</td>\n",
       "      <td>C</td>\n",
       "    </tr>\n",
       "    <tr>\n",
       "      <th>6</th>\n",
       "      <td>460156</td>\n",
       "      <td>Male</td>\n",
       "      <td>No</td>\n",
       "      <td>32</td>\n",
       "      <td>31-45</td>\n",
       "      <td>Yes</td>\n",
       "      <td>Healthcare</td>\n",
       "      <td>1.0</td>\n",
       "      <td>Low Experience</td>\n",
       "      <td>Low</td>\n",
       "      <td>3</td>\n",
       "      <td>Small Family</td>\n",
       "      <td>Cat_6</td>\n",
       "      <td>C</td>\n",
       "    </tr>\n",
       "    <tr>\n",
       "      <th>7</th>\n",
       "      <td>464347</td>\n",
       "      <td>Female</td>\n",
       "      <td>No</td>\n",
       "      <td>33</td>\n",
       "      <td>31-45</td>\n",
       "      <td>Yes</td>\n",
       "      <td>Healthcare</td>\n",
       "      <td>1.0</td>\n",
       "      <td>Low Experience</td>\n",
       "      <td>Low</td>\n",
       "      <td>3</td>\n",
       "      <td>Small Family</td>\n",
       "      <td>Cat_6</td>\n",
       "      <td>D</td>\n",
       "    </tr>\n",
       "    <tr>\n",
       "      <th>8</th>\n",
       "      <td>465015</td>\n",
       "      <td>Female</td>\n",
       "      <td>Yes</td>\n",
       "      <td>61</td>\n",
       "      <td>60+</td>\n",
       "      <td>Yes</td>\n",
       "      <td>Engineer</td>\n",
       "      <td>0.0</td>\n",
       "      <td>Low Experience</td>\n",
       "      <td>Low</td>\n",
       "      <td>3</td>\n",
       "      <td>Small Family</td>\n",
       "      <td>Cat_7</td>\n",
       "      <td>D</td>\n",
       "    </tr>\n",
       "    <tr>\n",
       "      <th>9</th>\n",
       "      <td>465176</td>\n",
       "      <td>Female</td>\n",
       "      <td>Yes</td>\n",
       "      <td>55</td>\n",
       "      <td>46-60</td>\n",
       "      <td>Yes</td>\n",
       "      <td>Artist</td>\n",
       "      <td>1.0</td>\n",
       "      <td>Low Experience</td>\n",
       "      <td>Average</td>\n",
       "      <td>4</td>\n",
       "      <td>Small Family</td>\n",
       "      <td>Cat_6</td>\n",
       "      <td>C</td>\n",
       "    </tr>\n",
       "  </tbody>\n",
       "</table>\n",
       "</div>"
      ],
      "text/plain": [
       "       ID  Gender Ever_Married  Age Age_Bin Graduated     Profession  \\\n",
       "0  462809    Male           No   22   17-30        No     Healthcare   \n",
       "1  462643  Female          Yes   38   31-45       Yes       Engineer   \n",
       "2  466315  Female          Yes   67     60+       Yes       Engineer   \n",
       "3  461735    Male          Yes   67     60+       Yes         Lawyer   \n",
       "4  462669  Female          Yes   40   31-45       Yes  Entertainment   \n",
       "5  461319    Male          Yes   56   46-60        No         Artist   \n",
       "6  460156    Male           No   32   31-45       Yes     Healthcare   \n",
       "7  464347  Female           No   33   31-45       Yes     Healthcare   \n",
       "8  465015  Female          Yes   61     60+       Yes       Engineer   \n",
       "9  465176  Female          Yes   55   46-60       Yes         Artist   \n",
       "\n",
       "   Work_Experience Work_Exp_Category Spending_Score  Family_Size  \\\n",
       "0              1.0    Low Experience            Low            4   \n",
       "1              1.0    Low Experience        Average            3   \n",
       "2              1.0    Low Experience            Low            1   \n",
       "3              0.0    Low Experience           High            2   \n",
       "4              0.0    Low Experience           High            6   \n",
       "5              0.0    Low Experience        Average            2   \n",
       "6              1.0    Low Experience            Low            3   \n",
       "7              1.0    Low Experience            Low            3   \n",
       "8              0.0    Low Experience            Low            3   \n",
       "9              1.0    Low Experience        Average            4   \n",
       "\n",
       "  Family_Size_Category  Var_1 Segmentation  \n",
       "0         Small Family  Cat_4            D  \n",
       "1         Small Family  Cat_4            A  \n",
       "2         Small Family  Cat_6            B  \n",
       "3         Small Family  Cat_6            B  \n",
       "4           Big Family  Cat_6            A  \n",
       "5         Small Family  Cat_6            C  \n",
       "6         Small Family  Cat_6            C  \n",
       "7         Small Family  Cat_6            D  \n",
       "8         Small Family  Cat_7            D  \n",
       "9         Small Family  Cat_6            C  "
      ]
     },
     "execution_count": 92,
     "metadata": {},
     "output_type": "execute_result"
    }
   ],
   "source": [
    "df_train = df_train[['ID','Gender', 'Ever_Married', 'Age', 'Age_Bin', 'Graduated', 'Profession', 'Work_Experience', 'Work_Exp_Category',\n",
    "         'Spending_Score', 'Family_Size', 'Family_Size_Category','Var_1', 'Segmentation']]\n",
    "df_train.head(10)"
   ]
  },
  {
   "cell_type": "code",
   "execution_count": 93,
   "metadata": {},
   "outputs": [
    {
     "data": {
      "text/html": [
       "<div>\n",
       "<style scoped>\n",
       "    .dataframe tbody tr th:only-of-type {\n",
       "        vertical-align: middle;\n",
       "    }\n",
       "\n",
       "    .dataframe tbody tr th {\n",
       "        vertical-align: top;\n",
       "    }\n",
       "\n",
       "    .dataframe thead th {\n",
       "        text-align: right;\n",
       "    }\n",
       "</style>\n",
       "<table border=\"1\" class=\"dataframe\">\n",
       "  <thead>\n",
       "    <tr style=\"text-align: right;\">\n",
       "      <th></th>\n",
       "      <th>ID</th>\n",
       "      <th>Gender</th>\n",
       "      <th>Ever_Married</th>\n",
       "      <th>Age</th>\n",
       "      <th>Age_Bin</th>\n",
       "      <th>Graduated</th>\n",
       "      <th>Profession</th>\n",
       "      <th>Work_Experience</th>\n",
       "      <th>Work_Exp_Category</th>\n",
       "      <th>Spending_Score</th>\n",
       "      <th>Family_Size</th>\n",
       "      <th>Family_Size_Category</th>\n",
       "      <th>Var_1</th>\n",
       "      <th>Segmentation</th>\n",
       "    </tr>\n",
       "  </thead>\n",
       "  <tbody>\n",
       "    <tr>\n",
       "      <th>0</th>\n",
       "      <td>462809</td>\n",
       "      <td>Male</td>\n",
       "      <td>No</td>\n",
       "      <td>22</td>\n",
       "      <td>17-30</td>\n",
       "      <td>No</td>\n",
       "      <td>Healthcare</td>\n",
       "      <td>1.0</td>\n",
       "      <td>Low Experience</td>\n",
       "      <td>Low</td>\n",
       "      <td>4</td>\n",
       "      <td>Small Family</td>\n",
       "      <td>Cat_4</td>\n",
       "      <td>D</td>\n",
       "    </tr>\n",
       "    <tr>\n",
       "      <th>1</th>\n",
       "      <td>462643</td>\n",
       "      <td>Female</td>\n",
       "      <td>Yes</td>\n",
       "      <td>38</td>\n",
       "      <td>31-45</td>\n",
       "      <td>Yes</td>\n",
       "      <td>Engineer</td>\n",
       "      <td>1.0</td>\n",
       "      <td>Low Experience</td>\n",
       "      <td>Average</td>\n",
       "      <td>3</td>\n",
       "      <td>Small Family</td>\n",
       "      <td>Cat_4</td>\n",
       "      <td>A</td>\n",
       "    </tr>\n",
       "    <tr>\n",
       "      <th>2</th>\n",
       "      <td>466315</td>\n",
       "      <td>Female</td>\n",
       "      <td>Yes</td>\n",
       "      <td>67</td>\n",
       "      <td>60+</td>\n",
       "      <td>Yes</td>\n",
       "      <td>Engineer</td>\n",
       "      <td>1.0</td>\n",
       "      <td>Low Experience</td>\n",
       "      <td>Low</td>\n",
       "      <td>1</td>\n",
       "      <td>Small Family</td>\n",
       "      <td>Cat_6</td>\n",
       "      <td>B</td>\n",
       "    </tr>\n",
       "    <tr>\n",
       "      <th>3</th>\n",
       "      <td>461735</td>\n",
       "      <td>Male</td>\n",
       "      <td>Yes</td>\n",
       "      <td>67</td>\n",
       "      <td>60+</td>\n",
       "      <td>Yes</td>\n",
       "      <td>Lawyer</td>\n",
       "      <td>0.0</td>\n",
       "      <td>Low Experience</td>\n",
       "      <td>High</td>\n",
       "      <td>2</td>\n",
       "      <td>Small Family</td>\n",
       "      <td>Cat_6</td>\n",
       "      <td>B</td>\n",
       "    </tr>\n",
       "    <tr>\n",
       "      <th>4</th>\n",
       "      <td>462669</td>\n",
       "      <td>Female</td>\n",
       "      <td>Yes</td>\n",
       "      <td>40</td>\n",
       "      <td>31-45</td>\n",
       "      <td>Yes</td>\n",
       "      <td>Entertainment</td>\n",
       "      <td>0.0</td>\n",
       "      <td>Low Experience</td>\n",
       "      <td>High</td>\n",
       "      <td>6</td>\n",
       "      <td>Big Family</td>\n",
       "      <td>Cat_6</td>\n",
       "      <td>A</td>\n",
       "    </tr>\n",
       "  </tbody>\n",
       "</table>\n",
       "</div>"
      ],
      "text/plain": [
       "       ID  Gender Ever_Married  Age Age_Bin Graduated     Profession  \\\n",
       "0  462809    Male           No   22   17-30        No     Healthcare   \n",
       "1  462643  Female          Yes   38   31-45       Yes       Engineer   \n",
       "2  466315  Female          Yes   67     60+       Yes       Engineer   \n",
       "3  461735    Male          Yes   67     60+       Yes         Lawyer   \n",
       "4  462669  Female          Yes   40   31-45       Yes  Entertainment   \n",
       "\n",
       "   Work_Experience Work_Exp_Category Spending_Score  Family_Size  \\\n",
       "0              1.0    Low Experience            Low            4   \n",
       "1              1.0    Low Experience        Average            3   \n",
       "2              1.0    Low Experience            Low            1   \n",
       "3              0.0    Low Experience           High            2   \n",
       "4              0.0    Low Experience           High            6   \n",
       "\n",
       "  Family_Size_Category  Var_1 Segmentation  \n",
       "0         Small Family  Cat_4            D  \n",
       "1         Small Family  Cat_4            A  \n",
       "2         Small Family  Cat_6            B  \n",
       "3         Small Family  Cat_6            B  \n",
       "4           Big Family  Cat_6            A  "
      ]
     },
     "execution_count": 93,
     "metadata": {},
     "output_type": "execute_result"
    }
   ],
   "source": [
    "df1 = df_train.copy()\n",
    "df1.head()"
   ]
  },
  {
   "cell_type": "code",
   "execution_count": 94,
   "metadata": {},
   "outputs": [],
   "source": [
    "# Separating dependent-independent variables\n",
    "X = df1.drop('Segmentation',axis=1)\n",
    "y = df1['Segmentation']"
   ]
  },
  {
   "cell_type": "code",
   "execution_count": null,
   "metadata": {},
   "outputs": [],
   "source": [
    "# import the train-test split\n",
    "from sklearn.model_selection import train_test_split\n",
    "\n",
    "# divide into train and test sets\n",
    "df1_trainX, df1_testX, df1_trainY, df1_testY = train_test_split(X,y, train_size = 0.7, random_state = 101, stratify=y)\n"
   ]
  },
  {
   "cell_type": "code",
   "execution_count": null,
   "metadata": {},
   "outputs": [],
   "source": [
    "# converting binary variables to numeric\n",
    "df1_trainX['Gender'] = df1_trainX['Gender'].replace(('Male','Female'),(1,0))\n",
    "df1_trainX['Ever_Married'] = df1_trainX['Ever_Married'].replace(('Yes','No'),(1,0))\n",
    "df1_trainX['Graduated'] = df1_trainX['Graduated'].replace(('Yes','No'),(1,0))\n",
    "df1_trainX['Spending_Score'] = df1_trainX['Spending_Score'].replace(('High','Average','Low'),(3,2,1))\n",
    "\n",
    "# converting nominal variables into dummy variables\n",
    "pf = pd.get_dummies(df1_trainX.Profession,prefix='Profession')\n",
    "df1_trainX = pd.concat([df1_trainX,pf],axis=1)\n",
    "\n",
    "vr = pd.get_dummies(df1_trainX.Var_1,prefix='Var_1')\n",
    "df1_trainX = pd.concat([df1_trainX,vr],axis=1)"
   ]
  }
 ],
 "metadata": {
  "interpreter": {
   "hash": "31f2aee4e71d21fbe5cf8b01ff0e069b9275f58929596ceb00d14d90e3e16cd6"
  },
  "kernelspec": {
   "display_name": "Python 3.8.10 64-bit",
   "language": "python",
   "name": "python3"
  },
  "language_info": {
   "codemirror_mode": {
    "name": "ipython",
    "version": 3
   },
   "file_extension": ".py",
   "mimetype": "text/x-python",
   "name": "python",
   "nbconvert_exporter": "python",
   "pygments_lexer": "ipython3",
   "version": "3.8.10"
  },
  "orig_nbformat": 4
 },
 "nbformat": 4,
 "nbformat_minor": 2
}
